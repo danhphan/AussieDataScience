{
 "cells": [
  {
   "cell_type": "code",
   "execution_count": null,
   "metadata": {},
   "outputs": [],
   "source": [
    "# default_exp config"
   ]
  },
  {
   "cell_type": "markdown",
   "metadata": {},
   "source": [
    "# config\n",
    "\n",
    "> API details."
   ]
  },
  {
   "cell_type": "code",
   "execution_count": null,
   "metadata": {},
   "outputs": [],
   "source": [
    "#hide\n",
    "from nbdev.showdoc import *"
   ]
  },
  {
   "cell_type": "code",
   "execution_count": null,
   "metadata": {},
   "outputs": [],
   "source": [
    "#export\n",
    "import urllib\n",
    "\n",
    "PATH_CHROME_DRIVER = '/home/danph/Repos/run/drivers/chromedriver'\n",
    "\n",
    "# PATH_PROJECT = '/home/danph/Repos/myprojects/AussieDataScience'\n",
    "PATH_PROJECT = 'gs://australia-southeast1-dsjobs-72227026-bucket'\n",
    "\n",
    "LINKEDIN_JOBLIST = PATH_PROJECT + '/data/linkedin_jobs_list_full.csv'\n",
    "LINKEDIN_JOBLIST_TEMP = PATH_PROJECT + '/data/linkedin_jobs_list_temp'\n",
    "LINKEDIN_JOBLIST_LATEST_DATE = PATH_PROJECT + \"/data/linkedin_jobs_list_latest_date.txt\"\n",
    "\n",
    "LINKEDIN_JOBS = PATH_PROJECT + '/data/linkedin_jobs.csv'\n",
    "LINKEDIN_JOBS_CLEAN = PATH_PROJECT + '/data/linkedin_jobs_clean.csv'\n",
    "LINKEDIN_JOBS_DTM = PATH_PROJECT + '/data/linkedin_jobs_dtm.csv'\n",
    "\n",
    "SEEK_JOBLIST = PATH_PROJECT + '/data/seek_jobs_list.csv'\n",
    "SEEK_JOBS = PATH_PROJECT + '/data/seek_jobs.csv'\n",
    "SEEK_JOBS_CLEAN = PATH_PROJECT + '/data/seek_jobs_clean.csv'\n",
    "SEEK_JOBS_DTM = PATH_PROJECT + '/data/seek_jobs_dtm.csv'\n",
    "\n",
    "KEYWORDS = [\"data scientist\", \"data analyst\", \"data engineer\",             \n",
    "            \"machine learning\", \"machine learning engineer\"]\n",
    "\n",
    "LINKEDIN_BASE = 'https://www.linkedin.com/jobs/search/?f_TPR=r604800&' \n",
    "\n",
    "LINKEDIN_URLS = [LINKEDIN_BASE+f'keywords={urllib.parse.quote(keyword)}&location=Australia&sortBy=R' for keyword in KEYWORDS]\n",
    "\n",
    "\n"
   ]
  },
  {
   "cell_type": "code",
   "execution_count": null,
   "metadata": {},
   "outputs": [],
   "source": []
  }
 ],
 "metadata": {
  "kernelspec": {
   "display_name": "Python 3",
   "language": "python",
   "name": "python3"
  }
 },
 "nbformat": 4,
 "nbformat_minor": 4
}
