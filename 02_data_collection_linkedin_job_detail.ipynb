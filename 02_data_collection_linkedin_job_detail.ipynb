{
 "cells": [
  {
   "cell_type": "code",
   "execution_count": null,
   "metadata": {},
   "outputs": [],
   "source": [
    "# default_exp data_collection_linkedin"
   ]
  },
  {
   "cell_type": "markdown",
   "metadata": {},
   "source": [
    "# data_collection_linkedin\n",
    "\n",
    "> API details."
   ]
  },
  {
   "cell_type": "code",
   "execution_count": null,
   "metadata": {},
   "outputs": [],
   "source": [
    "#hide\n",
    "# from nbdev.showdoc import *"
   ]
  },
  {
   "cell_type": "code",
   "execution_count": null,
   "metadata": {},
   "outputs": [
    {
     "name": "stdout",
     "output_type": "stream",
     "text": [
      "The autoreload extension is already loaded. To reload it, use:\n",
      "  %reload_ext autoreload\n"
     ]
    }
   ],
   "source": [
    "%load_ext autoreload\n",
    "%autoreload 2"
   ]
  },
  {
   "cell_type": "code",
   "execution_count": null,
   "metadata": {},
   "outputs": [],
   "source": [
    "import re, time, requests\n",
    "import pandas as pd\n",
    "from parsel import Selector\n",
    "import config"
   ]
  },
  {
   "cell_type": "code",
   "execution_count": null,
   "metadata": {},
   "outputs": [],
   "source": [
    "def strip_html(data):\n",
    "    p = re.compile(r'<.*?>')\n",
    "    if isinstance(data, str):\n",
    "        return p.sub('', data)\n",
    "    else: return \"\"\n",
    "\n",
    "def get_criteria(criteria):    \n",
    "    result = {Selector(item).css(\"h3::text\").get():Selector(item).css(\"span::text\").getall() for item in criteria}\n",
    "    return result\n",
    "\n",
    "def get_job_detail(job_url, published):\n",
    "    \"\"\"\n",
    "    This function parse a job url and return job detailed information\n",
    "    \"\"\"\n",
    "    selector = Selector(requests.get(job_url).text)\n",
    "    # Get job title, company url\n",
    "    top_card_css = 'div[class*=\"topcard__content-left\"]'\n",
    "    title = selector.css(top_card_css).xpath('./h1/text()').get()\n",
    "    company_url = selector.css(top_card_css).xpath('./h3/span/a/@href').get()\n",
    "    # Get job description\n",
    "    desc = selector.css('div[class*=\"description__text\"]').get()\n",
    "    desc = strip_html(desc)\n",
    "    # Get job criteria\n",
    "    criteria = selector.css('ul[class*=\"job-criteria__list\"]').xpath(\"li\").getall()\n",
    "    criteria = get_criteria(criteria)\n",
    "    return (title, company_url, published, desc, criteria)    \n"
   ]
  },
  {
   "cell_type": "code",
   "execution_count": null,
   "metadata": {},
   "outputs": [
    {
     "data": {
      "text/plain": [
       "(377, 4)"
      ]
     },
     "execution_count": null,
     "metadata": {},
     "output_type": "execute_result"
    }
   ],
   "source": [
    "jobs_list = pd.read_csv(config.LINKEDIN_JOBLIST)\n",
    "jobs_list.shape"
   ]
  },
  {
   "cell_type": "code",
   "execution_count": null,
   "metadata": {},
   "outputs": [],
   "source": [
    "jobs_list = jobs_list[jobs_list.collected == 0]"
   ]
  },
  {
   "cell_type": "code",
   "execution_count": null,
   "metadata": {},
   "outputs": [
    {
     "data": {
      "text/html": [
       "<div>\n",
       "<style scoped>\n",
       "    .dataframe tbody tr th:only-of-type {\n",
       "        vertical-align: middle;\n",
       "    }\n",
       "\n",
       "    .dataframe tbody tr th {\n",
       "        vertical-align: top;\n",
       "    }\n",
       "\n",
       "    .dataframe thead th {\n",
       "        text-align: right;\n",
       "    }\n",
       "</style>\n",
       "<table border=\"1\" class=\"dataframe\">\n",
       "  <thead>\n",
       "    <tr style=\"text-align: right;\">\n",
       "      <th></th>\n",
       "      <th>title</th>\n",
       "      <th>published</th>\n",
       "      <th>url</th>\n",
       "      <th>collected</th>\n",
       "    </tr>\n",
       "  </thead>\n",
       "  <tbody>\n",
       "    <tr>\n",
       "      <th>0</th>\n",
       "      <td>Data Scientist</td>\n",
       "      <td>2021-05-07</td>\n",
       "      <td>https://au.linkedin.com/jobs/view/data-scienti...</td>\n",
       "      <td>0</td>\n",
       "    </tr>\n",
       "    <tr>\n",
       "      <th>1</th>\n",
       "      <td>Data Scientist</td>\n",
       "      <td>2021-05-06</td>\n",
       "      <td>https://au.linkedin.com/jobs/view/data-scienti...</td>\n",
       "      <td>0</td>\n",
       "    </tr>\n",
       "    <tr>\n",
       "      <th>2</th>\n",
       "      <td>Data Scientist - Artificial Intelligence/Machi...</td>\n",
       "      <td>2021-05-07</td>\n",
       "      <td>https://au.linkedin.com/jobs/view/data-scienti...</td>\n",
       "      <td>0</td>\n",
       "    </tr>\n",
       "    <tr>\n",
       "      <th>3</th>\n",
       "      <td>Entry level Data Scientist / Risk Analyst oppo...</td>\n",
       "      <td>2021-05-07</td>\n",
       "      <td>https://au.linkedin.com/jobs/view/entry-level-...</td>\n",
       "      <td>0</td>\n",
       "    </tr>\n",
       "    <tr>\n",
       "      <th>4</th>\n",
       "      <td>Data Scientist</td>\n",
       "      <td>2021-05-06</td>\n",
       "      <td>https://au.linkedin.com/jobs/view/data-scienti...</td>\n",
       "      <td>0</td>\n",
       "    </tr>\n",
       "  </tbody>\n",
       "</table>\n",
       "</div>"
      ],
      "text/plain": [
       "                                               title   published  \\\n",
       "0                                     Data Scientist  2021-05-07   \n",
       "1                                     Data Scientist  2021-05-06   \n",
       "2  Data Scientist - Artificial Intelligence/Machi...  2021-05-07   \n",
       "3  Entry level Data Scientist / Risk Analyst oppo...  2021-05-07   \n",
       "4                                     Data Scientist  2021-05-06   \n",
       "\n",
       "                                                 url  collected  \n",
       "0  https://au.linkedin.com/jobs/view/data-scienti...          0  \n",
       "1  https://au.linkedin.com/jobs/view/data-scienti...          0  \n",
       "2  https://au.linkedin.com/jobs/view/data-scienti...          0  \n",
       "3  https://au.linkedin.com/jobs/view/entry-level-...          0  \n",
       "4  https://au.linkedin.com/jobs/view/data-scienti...          0  "
      ]
     },
     "execution_count": null,
     "metadata": {},
     "output_type": "execute_result"
    }
   ],
   "source": [
    "jobs_list.head()"
   ]
  },
  {
   "cell_type": "code",
   "execution_count": null,
   "metadata": {},
   "outputs": [
    {
     "data": {
      "text/plain": [
       "title        0\n",
       "published    0\n",
       "url          0\n",
       "collected    0\n",
       "dtype: int64"
      ]
     },
     "execution_count": null,
     "metadata": {},
     "output_type": "execute_result"
    }
   ],
   "source": [
    "jobs_list.isna().sum()"
   ]
  },
  {
   "cell_type": "markdown",
   "metadata": {},
   "source": [
    "### Get all jobs"
   ]
  },
  {
   "cell_type": "code",
   "execution_count": null,
   "metadata": {},
   "outputs": [
    {
     "name": "stdout",
     "output_type": "stream",
     "text": [
      "377\n"
     ]
    }
   ],
   "source": [
    "jobs = [get_job_detail(url, published) for url, published in zip(jobs_list.url, jobs_list.published)]\n",
    "print(len(jobs))"
   ]
  },
  {
   "cell_type": "code",
   "execution_count": null,
   "metadata": {},
   "outputs": [],
   "source": [
    "# Update collected status to 1\n",
    "jobs_list.collected = 1"
   ]
  },
  {
   "cell_type": "markdown",
   "metadata": {},
   "source": [
    "### Save data"
   ]
  },
  {
   "cell_type": "code",
   "execution_count": null,
   "metadata": {},
   "outputs": [],
   "source": [
    "jobs = pd.DataFrame(jobs, columns=['title','company_url', 'published', 'description', 'criteria'])\n",
    "jobs.to_csv(config.LINKEDIN_JOBS, mode=\"a\", index=False)"
   ]
  },
  {
   "cell_type": "code",
   "execution_count": null,
   "metadata": {},
   "outputs": [],
   "source": [
    "# TESTING\n",
    "# url = \"https://www.linkedin.com/jobs/view/lead-researcher-jira-work-management-at-atlassian-2469567032/?trackingId=DTQQrEPqTTdVIHYgcOaGgg%3D%3D&refId=CGhTPUgib1AcmehqhqVpoQ%3D%3D&pageNum=0&position=1&trk=public_jobs_jserp-result_search-card&originalSubdomain=au\"\n",
    "# get_job_detail(url)"
   ]
  },
  {
   "cell_type": "code",
   "execution_count": null,
   "metadata": {},
   "outputs": [],
   "source": []
  },
  {
   "cell_type": "code",
   "execution_count": null,
   "metadata": {},
   "outputs": [],
   "source": []
  }
 ],
 "metadata": {
  "kernelspec": {
   "display_name": "Python 3",
   "language": "python",
   "name": "python3"
  }
 },
 "nbformat": 4,
 "nbformat_minor": 4
}
