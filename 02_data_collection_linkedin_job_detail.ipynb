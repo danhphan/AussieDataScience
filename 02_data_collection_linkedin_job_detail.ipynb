{
 "cells": [
  {
   "cell_type": "code",
   "execution_count": null,
   "metadata": {},
   "outputs": [],
   "source": [
    "# default_exp data_collection_linkedin"
   ]
  },
  {
   "cell_type": "markdown",
   "metadata": {},
   "source": [
    "# data_collection_linkedin\n",
    "\n",
    "> API details."
   ]
  },
  {
   "cell_type": "code",
   "execution_count": null,
   "metadata": {},
   "outputs": [],
   "source": [
    "#hide\n",
    "# from nbdev.showdoc import *"
   ]
  },
  {
   "cell_type": "code",
   "execution_count": null,
   "metadata": {},
   "outputs": [],
   "source": [
    "import re, time, requests\n",
    "import pandas as pd\n",
    "from parsel import Selector\n",
    "import config"
   ]
  },
  {
   "cell_type": "code",
   "execution_count": null,
   "metadata": {},
   "outputs": [],
   "source": [
    "def strip_html(data):\n",
    "    p = re.compile(r'<.*?>')\n",
    "    return p.sub('', data)\n",
    "\n",
    "def get_criteria(criteria):    \n",
    "    result = {Selector(item).css(\"h3::text\").get():Selector(item).css(\"span::text\").getall() for item in criteria}\n",
    "    return result\n",
    "\n",
    "def get_job_detail(job_url):\n",
    "    \"\"\"\n",
    "    This function parse a job url and return job detailed information\n",
    "    \"\"\"\n",
    "    selector = Selector(requests.get(job_url).text)\n",
    "    # Get job title, company url, and published date\n",
    "    top_card_css = 'div[class*=\"topcard__content-left\"]'\n",
    "    title = selector.css(top_card_css).xpath('./h1/text()').get()\n",
    "    company_url = selector.css(top_card_css).xpath('./h3/span/a/@href').get()\n",
    "    published = selector.css(top_card_css).xpath('./h3/span/text()').getall()[-1]\n",
    "    # Get job description\n",
    "    desc = selector.css('div[class*=\"description__text\"]').get()\n",
    "    desc = strip_html(desc)\n",
    "    # Get job criteria\n",
    "    criteria = selector.css('ul[class*=\"job-criteria__list\"]').xpath(\"li\").getall()\n",
    "    criteria = get_criteria(criteria)\n",
    "    return (title, company_url, published, desc, criteria)\n",
    "    "
   ]
  },
  {
   "cell_type": "code",
   "execution_count": null,
   "metadata": {},
   "outputs": [
    {
     "data": {
      "text/plain": [
       "(116, 4)"
      ]
     },
     "execution_count": null,
     "metadata": {},
     "output_type": "execute_result"
    }
   ],
   "source": [
    "jobs_df = pd.read_csv(config.FILE_JOBLIST_LK)\n",
    "jobs_df.shape"
   ]
  },
  {
   "cell_type": "code",
   "execution_count": null,
   "metadata": {},
   "outputs": [
    {
     "data": {
      "text/html": [
       "<div>\n",
       "<style scoped>\n",
       "    .dataframe tbody tr th:only-of-type {\n",
       "        vertical-align: middle;\n",
       "    }\n",
       "\n",
       "    .dataframe tbody tr th {\n",
       "        vertical-align: top;\n",
       "    }\n",
       "\n",
       "    .dataframe thead th {\n",
       "        text-align: right;\n",
       "    }\n",
       "</style>\n",
       "<table border=\"1\" class=\"dataframe\">\n",
       "  <thead>\n",
       "    <tr style=\"text-align: right;\">\n",
       "      <th></th>\n",
       "      <th>id</th>\n",
       "      <th>title</th>\n",
       "      <th>published</th>\n",
       "      <th>url</th>\n",
       "    </tr>\n",
       "  </thead>\n",
       "  <tbody>\n",
       "    <tr>\n",
       "      <th>0</th>\n",
       "      <td>aPHC93d%2BXlFlVCuvrJ27%2BQ%3D%3D</td>\n",
       "      <td>Data Scientist</td>\n",
       "      <td>2021-04-26</td>\n",
       "      <td>https://au.linkedin.com/jobs/view/data-scienti...</td>\n",
       "    </tr>\n",
       "    <tr>\n",
       "      <th>1</th>\n",
       "      <td>yK3F336PB8x2bY7Wm2HhiA%3D%3D</td>\n",
       "      <td>Data Scientist / Data Analyst</td>\n",
       "      <td>2021-04-27</td>\n",
       "      <td>https://au.linkedin.com/jobs/view/data-scienti...</td>\n",
       "    </tr>\n",
       "    <tr>\n",
       "      <th>2</th>\n",
       "      <td>3jG0jasJadd5meZ0yl9qRg%3D%3D</td>\n",
       "      <td>Senior Data Scientist</td>\n",
       "      <td>2021-04-27</td>\n",
       "      <td>https://au.linkedin.com/jobs/view/senior-data-...</td>\n",
       "    </tr>\n",
       "    <tr>\n",
       "      <th>3</th>\n",
       "      <td>LhiS6iR1f%2F1aZyDC3jAEGg%3D%3D</td>\n",
       "      <td>Data Scientist</td>\n",
       "      <td>2021-04-28</td>\n",
       "      <td>https://au.linkedin.com/jobs/view/data-scienti...</td>\n",
       "    </tr>\n",
       "    <tr>\n",
       "      <th>4</th>\n",
       "      <td>tJyCFfHmaFiZq7JOb9%2B9Zw%3D%3D</td>\n",
       "      <td>Data Scientist, Product Analytics</td>\n",
       "      <td>2021-04-28</td>\n",
       "      <td>https://au.linkedin.com/jobs/view/data-scienti...</td>\n",
       "    </tr>\n",
       "    <tr>\n",
       "      <th>...</th>\n",
       "      <td>...</td>\n",
       "      <td>...</td>\n",
       "      <td>...</td>\n",
       "      <td>...</td>\n",
       "    </tr>\n",
       "    <tr>\n",
       "      <th>111</th>\n",
       "      <td>MTnzGXUpHVI2Rw140b5OxQ%3D%3D</td>\n",
       "      <td>Staff Software Engineer (Bangkok based, reloca...</td>\n",
       "      <td>2021-04-25</td>\n",
       "      <td>https://au.linkedin.com/jobs/view/staff-softwa...</td>\n",
       "    </tr>\n",
       "    <tr>\n",
       "      <th>112</th>\n",
       "      <td>YJ6%2Fej%2FD91lcTgUNQBOTGA%3D%3D</td>\n",
       "      <td>Software Engineer</td>\n",
       "      <td>2021-04-30</td>\n",
       "      <td>https://au.linkedin.com/jobs/view/software-eng...</td>\n",
       "    </tr>\n",
       "    <tr>\n",
       "      <th>113</th>\n",
       "      <td>5elnB4QX1d8n8l66VpkBNA%3D%3D</td>\n",
       "      <td>Senior Data Engineer</td>\n",
       "      <td>2021-04-28</td>\n",
       "      <td>https://au.linkedin.com/jobs/view/senior-data-...</td>\n",
       "    </tr>\n",
       "    <tr>\n",
       "      <th>114</th>\n",
       "      <td>l6GXqkCVvK9QxleKFZZ6kg%3D%3D</td>\n",
       "      <td>Software Engineer</td>\n",
       "      <td>2021-04-30</td>\n",
       "      <td>https://au.linkedin.com/jobs/view/software-eng...</td>\n",
       "    </tr>\n",
       "    <tr>\n",
       "      <th>115</th>\n",
       "      <td>81lNkY%2Bh%2F9Vejkcv5bpNDA%3D%3D</td>\n",
       "      <td>Data Engineer - AWS</td>\n",
       "      <td>2021-04-29</td>\n",
       "      <td>https://au.linkedin.com/jobs/view/data-enginee...</td>\n",
       "    </tr>\n",
       "  </tbody>\n",
       "</table>\n",
       "<p>116 rows × 4 columns</p>\n",
       "</div>"
      ],
      "text/plain": [
       "                                   id  \\\n",
       "0    aPHC93d%2BXlFlVCuvrJ27%2BQ%3D%3D   \n",
       "1        yK3F336PB8x2bY7Wm2HhiA%3D%3D   \n",
       "2        3jG0jasJadd5meZ0yl9qRg%3D%3D   \n",
       "3      LhiS6iR1f%2F1aZyDC3jAEGg%3D%3D   \n",
       "4      tJyCFfHmaFiZq7JOb9%2B9Zw%3D%3D   \n",
       "..                                ...   \n",
       "111      MTnzGXUpHVI2Rw140b5OxQ%3D%3D   \n",
       "112  YJ6%2Fej%2FD91lcTgUNQBOTGA%3D%3D   \n",
       "113      5elnB4QX1d8n8l66VpkBNA%3D%3D   \n",
       "114      l6GXqkCVvK9QxleKFZZ6kg%3D%3D   \n",
       "115  81lNkY%2Bh%2F9Vejkcv5bpNDA%3D%3D   \n",
       "\n",
       "                                                 title   published  \\\n",
       "0                                       Data Scientist  2021-04-26   \n",
       "1                        Data Scientist / Data Analyst  2021-04-27   \n",
       "2                                Senior Data Scientist  2021-04-27   \n",
       "3                                       Data Scientist  2021-04-28   \n",
       "4                    Data Scientist, Product Analytics  2021-04-28   \n",
       "..                                                 ...         ...   \n",
       "111  Staff Software Engineer (Bangkok based, reloca...  2021-04-25   \n",
       "112                                  Software Engineer  2021-04-30   \n",
       "113                               Senior Data Engineer  2021-04-28   \n",
       "114                                  Software Engineer  2021-04-30   \n",
       "115                                Data Engineer - AWS  2021-04-29   \n",
       "\n",
       "                                                   url  \n",
       "0    https://au.linkedin.com/jobs/view/data-scienti...  \n",
       "1    https://au.linkedin.com/jobs/view/data-scienti...  \n",
       "2    https://au.linkedin.com/jobs/view/senior-data-...  \n",
       "3    https://au.linkedin.com/jobs/view/data-scienti...  \n",
       "4    https://au.linkedin.com/jobs/view/data-scienti...  \n",
       "..                                                 ...  \n",
       "111  https://au.linkedin.com/jobs/view/staff-softwa...  \n",
       "112  https://au.linkedin.com/jobs/view/software-eng...  \n",
       "113  https://au.linkedin.com/jobs/view/senior-data-...  \n",
       "114  https://au.linkedin.com/jobs/view/software-eng...  \n",
       "115  https://au.linkedin.com/jobs/view/data-enginee...  \n",
       "\n",
       "[116 rows x 4 columns]"
      ]
     },
     "execution_count": null,
     "metadata": {},
     "output_type": "execute_result"
    }
   ],
   "source": [
    "jobs_df"
   ]
  },
  {
   "cell_type": "code",
   "execution_count": null,
   "metadata": {},
   "outputs": [],
   "source": [
    "# TESTING\n",
    "url = \"https://www.linkedin.com/jobs/view/lead-researcher-jira-work-management-at-atlassian-2469567032/?trackingId=DTQQrEPqTTdVIHYgcOaGgg%3D%3D&refId=CGhTPUgib1AcmehqhqVpoQ%3D%3D&pageNum=0&position=1&trk=public_jobs_jserp-result_search-card&originalSubdomain=au\"\n",
    "# url = \"https://www.linkedin.com/jobs/view/data-engineer-at-cognizant-2468097762/?trackingId=NWeq80InF5kcgcQwUwXktA%3D%3D&refId=CGhTPUgib1AcmehqhqVpoQ%3D%3D&pageNum=0&position=2&trk=public_jobs_jserp-result_search-card&originalSubdomain=au\"\n",
    "# get_job_detail(url)"
   ]
  }
 ],
 "metadata": {
  "kernelspec": {
   "display_name": "Python 3",
   "language": "python",
   "name": "python3"
  }
 },
 "nbformat": 4,
 "nbformat_minor": 4
}
