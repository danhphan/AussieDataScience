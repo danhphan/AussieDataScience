{
 "cells": [
  {
   "cell_type": "code",
   "execution_count": null,
   "metadata": {},
   "outputs": [],
   "source": [
    "# default_exp data_cleaning_linkedin_jobs"
   ]
  },
  {
   "cell_type": "markdown",
   "metadata": {},
   "source": [
    "# data cleaning for linkedin jobs\n",
    "\n",
    "> API details."
   ]
  },
  {
   "cell_type": "code",
   "execution_count": null,
   "metadata": {},
   "outputs": [],
   "source": [
    "%load_ext autoreload\n",
    "%autoreload 2"
   ]
  },
  {
   "cell_type": "code",
   "execution_count": null,
   "metadata": {},
   "outputs": [],
   "source": [
    "#hide\n",
    "# from nbdev.showdoc import *"
   ]
  },
  {
   "cell_type": "code",
   "execution_count": null,
   "metadata": {},
   "outputs": [],
   "source": [
    "import re\n",
    "import string\n",
    "import pandas as pd\n",
    "from sklearn.feature_extraction import text\n",
    "from sklearn.feature_extraction.text import CountVectorizer\n",
    "import config\n"
   ]
  },
  {
   "cell_type": "code",
   "execution_count": null,
   "metadata": {},
   "outputs": [
    {
     "data": {
      "text/plain": [
       "(109, 5)"
      ]
     },
     "execution_count": null,
     "metadata": {},
     "output_type": "execute_result"
    }
   ],
   "source": [
    "# Load data of linkedin jobs\n",
    "jobs = pd.read_csv(config.LINKEDIN_JOBS, low_memory=False)\n",
    "jobs.shape"
   ]
  },
  {
   "cell_type": "code",
   "execution_count": null,
   "metadata": {},
   "outputs": [
    {
     "data": {
      "text/html": [
       "<div>\n",
       "<style scoped>\n",
       "    .dataframe tbody tr th:only-of-type {\n",
       "        vertical-align: middle;\n",
       "    }\n",
       "\n",
       "    .dataframe tbody tr th {\n",
       "        vertical-align: top;\n",
       "    }\n",
       "\n",
       "    .dataframe thead th {\n",
       "        text-align: right;\n",
       "    }\n",
       "</style>\n",
       "<table border=\"1\" class=\"dataframe\">\n",
       "  <thead>\n",
       "    <tr style=\"text-align: right;\">\n",
       "      <th></th>\n",
       "      <th>title</th>\n",
       "      <th>company_url</th>\n",
       "      <th>published</th>\n",
       "      <th>description</th>\n",
       "      <th>criteria</th>\n",
       "    </tr>\n",
       "  </thead>\n",
       "  <tbody>\n",
       "    <tr>\n",
       "      <th>0</th>\n",
       "      <td>Data Scientist</td>\n",
       "      <td>https://www.linkedin.com/company/johnson-&amp;-joh...</td>\n",
       "      <td>2021-05-07</td>\n",
       "      <td>Job DescriptionDATA SCIENTIST - JANSSEN ANZWor...</td>\n",
       "      <td>{'Seniority level': ['Not Applicable'], 'Emplo...</td>\n",
       "    </tr>\n",
       "    <tr>\n",
       "      <th>1</th>\n",
       "      <td>Data Scientist</td>\n",
       "      <td>https://uk.linkedin.com/company/hays?trk=publi...</td>\n",
       "      <td>2021-05-06</td>\n",
       "      <td>Centrally located in Brisbane CBDMultiple work...</td>\n",
       "      <td>{'Seniority level': ['Entry level'], 'Employme...</td>\n",
       "    </tr>\n",
       "    <tr>\n",
       "      <th>2</th>\n",
       "      <td>Data Scientist - Artificial Intelligence/Machi...</td>\n",
       "      <td>https://au.linkedin.com/company/systemize-cons...</td>\n",
       "      <td>2021-05-07</td>\n",
       "      <td>·        $83,000 (inc. super) + up to 25% perf...</td>\n",
       "      <td>{'Employment type': ['Full-time']}</td>\n",
       "    </tr>\n",
       "    <tr>\n",
       "      <th>3</th>\n",
       "      <td>Data Scientist</td>\n",
       "      <td>https://au.linkedin.com/company/kpmg-australia...</td>\n",
       "      <td>2021-05-03</td>\n",
       "      <td>Digital Delta Data Scientist Do you love solvi...</td>\n",
       "      <td>{'Seniority level': ['Not Applicable'], 'Emplo...</td>\n",
       "    </tr>\n",
       "    <tr>\n",
       "      <th>4</th>\n",
       "      <td>Entry level Data Scientist / Risk Analyst oppo...</td>\n",
       "      <td>https://au.linkedin.com/company/commonwealthba...</td>\n",
       "      <td>2021-05-07</td>\n",
       "      <td>Entry level Data Scientist / Risk Analyst oppo...</td>\n",
       "      <td>{'Seniority level': ['Entry level'], 'Employme...</td>\n",
       "    </tr>\n",
       "  </tbody>\n",
       "</table>\n",
       "</div>"
      ],
      "text/plain": [
       "                                               title  \\\n",
       "0                                     Data Scientist   \n",
       "1                                     Data Scientist   \n",
       "2  Data Scientist - Artificial Intelligence/Machi...   \n",
       "3                                     Data Scientist   \n",
       "4  Entry level Data Scientist / Risk Analyst oppo...   \n",
       "\n",
       "                                         company_url   published  \\\n",
       "0  https://www.linkedin.com/company/johnson-&-joh...  2021-05-07   \n",
       "1  https://uk.linkedin.com/company/hays?trk=publi...  2021-05-06   \n",
       "2  https://au.linkedin.com/company/systemize-cons...  2021-05-07   \n",
       "3  https://au.linkedin.com/company/kpmg-australia...  2021-05-03   \n",
       "4  https://au.linkedin.com/company/commonwealthba...  2021-05-07   \n",
       "\n",
       "                                         description  \\\n",
       "0  Job DescriptionDATA SCIENTIST - JANSSEN ANZWor...   \n",
       "1  Centrally located in Brisbane CBDMultiple work...   \n",
       "2  ·        $83,000 (inc. super) + up to 25% perf...   \n",
       "3  Digital Delta Data Scientist Do you love solvi...   \n",
       "4  Entry level Data Scientist / Risk Analyst oppo...   \n",
       "\n",
       "                                            criteria  \n",
       "0  {'Seniority level': ['Not Applicable'], 'Emplo...  \n",
       "1  {'Seniority level': ['Entry level'], 'Employme...  \n",
       "2                 {'Employment type': ['Full-time']}  \n",
       "3  {'Seniority level': ['Not Applicable'], 'Emplo...  \n",
       "4  {'Seniority level': ['Entry level'], 'Employme...  "
      ]
     },
     "execution_count": null,
     "metadata": {},
     "output_type": "execute_result"
    }
   ],
   "source": [
    "jobs.head()"
   ]
  },
  {
   "cell_type": "markdown",
   "metadata": {},
   "source": [
    "### Clean descriptions"
   ]
  },
  {
   "cell_type": "code",
   "execution_count": null,
   "metadata": {},
   "outputs": [],
   "source": [
    "def clean_text(text):\n",
    "    \"\"\"Make text lower case, remove punctuation\"\"\"\n",
    "    text = text.lower()\n",
    "    text = re.sub('\\xa0', ' ', text)\n",
    "    text = re.sub('\\u202f', ' ', text)\n",
    "    text = re.sub('[0-9]', ' ', text)\n",
    "    text = re.sub('[%s]' % re.escape(string.punctuation), ' ', text)\n",
    "    return text\n",
    "\n",
    "jobs.description = jobs.description.apply(lambda x: clean_text(x))"
   ]
  },
  {
   "cell_type": "markdown",
   "metadata": {},
   "source": [
    "### Remove stop words"
   ]
  },
  {
   "cell_type": "code",
   "execution_count": null,
   "metadata": {},
   "outputs": [],
   "source": [
    "stop_words = text.ENGLISH_STOP_WORDS\n",
    "def remove_stop_words(text):\n",
    "    for word in stop_words:\n",
    "        text = re.sub(f' {word} ', ' ', text)\n",
    "    return text\n",
    "\n",
    "jobs.description = jobs.description.apply(lambda x: remove_stop_words(x))"
   ]
  },
  {
   "cell_type": "markdown",
   "metadata": {},
   "source": [
    "### Unify job titles"
   ]
  },
  {
   "cell_type": "code",
   "execution_count": null,
   "metadata": {},
   "outputs": [
    {
     "data": {
      "text/plain": [
       "Data Engineer                                                19\n",
       "Data Scientist                                               15\n",
       "Data Analyst                                                 12\n",
       "Entry level Data Scientist / Risk Analyst opportunities       4\n",
       "Machine Learning Engineer                                     4\n",
       "Data Scientist - QuantumBlack                                 3\n",
       "Data Science Engineer                                         3\n",
       "Data Analyst, ANZ                                             3\n",
       "Data Scientist, Customer Analytics                            3\n",
       "Data Scientist - Artificial Intelligence/Machine Learning     3\n",
       "Business Analyst                                              3\n",
       "*Machine Learning Engineer*                                   2\n",
       "Investment Data Analyst                                       2\n",
       "Principal Data Scientist                                      2\n",
       "Datascientist                                                 2\n",
       "Data Scientist- Actuarial                                     2\n",
       "Data Science - Specialist                                     2\n",
       "Data engineer                                                 2\n",
       "Amazon Tech U Graduate Program 2021                           1\n",
       "Robotics Software Engineer - SLAM                             1\n",
       "2021 Research Intern – Data Science & Machine Learning        1\n",
       "Analyst                                                       1\n",
       "Data Lead Engineer                                            1\n",
       "Data Engineer - QuantumBlack                                  1\n",
       "Insights and Data Science Analysts                            1\n",
       "Software Engineer                                             1\n",
       "Data & Reporting Analyst                                      1\n",
       "Machine Learning Scientist                                    1\n",
       "Junior Data Engineer                                          1\n",
       "Junior Business Analyst(Entry Level)                          1\n",
       "Name: title, dtype: int64"
      ]
     },
     "execution_count": null,
     "metadata": {},
     "output_type": "execute_result"
    }
   ],
   "source": [
    "jobs.title.value_counts().head(30)"
   ]
  },
  {
   "cell_type": "code",
   "execution_count": null,
   "metadata": {},
   "outputs": [],
   "source": [
    "official_titles = [\"Data Engineer\", \"Data Science Engineer\", \"Data Warehouse\",\n",
    "                   \"Data Scientist\", \"Machine Learning Engineer\", \"Machine Learning Specialist\", \"Machine Learning\",\n",
    "                   \"Data Analyst\", \"Business Analyst\", \"Data & Analytics\",                    \n",
    "                   \"Software Engineer\"]\n",
    "\n",
    "def unify_job_title(text):\n",
    "    res = \"Not sure: \" + text\n",
    "    for title in official_titles:\n",
    "        if title in text:\n",
    "            res = title\n",
    "    return res"
   ]
  },
  {
   "cell_type": "code",
   "execution_count": null,
   "metadata": {},
   "outputs": [],
   "source": [
    "jobs.loc[:,'title'] = jobs.title.apply(lambda x: unify_job_title(x))"
   ]
  },
  {
   "cell_type": "code",
   "execution_count": null,
   "metadata": {},
   "outputs": [
    {
     "data": {
      "text/plain": [
       "Data Scientist                                                        29\n",
       "Data Engineer                                                         23\n",
       "Data Analyst                                                          19\n",
       "Machine Learning                                                      12\n",
       "Business Analyst                                                       5\n",
       "Software Engineer                                                      4\n",
       "Data Science Engineer                                                  3\n",
       "Not sure: Data engineer                                                2\n",
       "Not sure: Data Science - Specialist                                    2\n",
       "Not sure: Datascientist                                                2\n",
       "Not sure: Insights and Data Science Analysts                           1\n",
       "Not sure: Amazon Tech U Graduate Program 2021                          1\n",
       "Not sure: Data & Reporting Analyst                                     1\n",
       "Not sure: Applied Scientist - Intern                                   1\n",
       "Not sure: Analyst                                                      1\n",
       "Not sure: Data Lead Engineer                                           1\n",
       "Not sure: Artificial Intelligence and Data Science Research Fellow     1\n",
       "Not sure: PHD Student                                                  1\n",
       "Name: title, dtype: int64"
      ]
     },
     "execution_count": null,
     "metadata": {},
     "output_type": "execute_result"
    }
   ],
   "source": [
    "jobs.title.value_counts()"
   ]
  },
  {
   "cell_type": "code",
   "execution_count": null,
   "metadata": {},
   "outputs": [],
   "source": [
    "# Mapping titles\n",
    "title_map = {\"Data Engineer\":\"Data Engineer\", \"Data Science Engineer\":\"Data Engineer\", \"Data Warehouse\":\"Data Engineer\",\n",
    "               \"Data Scientist\":\"Data Scientist\", \"Machine Learning Engineer\":\"Machine Learning Engineer\", \n",
    "               \"Machine Learning Specialist\":\"Machine Learning Engineer\", \"Machine Learning\":\"Machine Learning Engineer\",\n",
    "               \"Data Analyst\":\"Data Analyst\", \"Business Analyst\":\"Data Analyst\", \"Data & Analytics\":\"Data Analyst\",                    \n",
    "               \"Software Engineer\":\"Software Engineer\"}"
   ]
  },
  {
   "cell_type": "code",
   "execution_count": null,
   "metadata": {},
   "outputs": [],
   "source": [
    "jobs.title = jobs.title.map(title_map)"
   ]
  },
  {
   "cell_type": "code",
   "execution_count": null,
   "metadata": {},
   "outputs": [
    {
     "data": {
      "text/plain": [
       "title          14\n",
       "company_url     0\n",
       "published       0\n",
       "description     0\n",
       "criteria        0\n",
       "dtype: int64"
      ]
     },
     "execution_count": null,
     "metadata": {},
     "output_type": "execute_result"
    }
   ],
   "source": [
    "jobs.isna().sum()"
   ]
  },
  {
   "cell_type": "code",
   "execution_count": null,
   "metadata": {},
   "outputs": [],
   "source": [
    "jobs.dropna(inplace=True)"
   ]
  },
  {
   "cell_type": "code",
   "execution_count": null,
   "metadata": {},
   "outputs": [
    {
     "data": {
      "text/html": [
       "<div>\n",
       "<style scoped>\n",
       "    .dataframe tbody tr th:only-of-type {\n",
       "        vertical-align: middle;\n",
       "    }\n",
       "\n",
       "    .dataframe tbody tr th {\n",
       "        vertical-align: top;\n",
       "    }\n",
       "\n",
       "    .dataframe thead th {\n",
       "        text-align: right;\n",
       "    }\n",
       "</style>\n",
       "<table border=\"1\" class=\"dataframe\">\n",
       "  <thead>\n",
       "    <tr style=\"text-align: right;\">\n",
       "      <th></th>\n",
       "      <th>title</th>\n",
       "      <th>company_url</th>\n",
       "      <th>published</th>\n",
       "      <th>description</th>\n",
       "      <th>criteria</th>\n",
       "    </tr>\n",
       "  </thead>\n",
       "  <tbody>\n",
       "    <tr>\n",
       "      <th>0</th>\n",
       "      <td>Data Scientist</td>\n",
       "      <td>https://www.linkedin.com/company/johnson-&amp;-joh...</td>\n",
       "      <td>2021-05-07</td>\n",
       "      <td>job descriptiondata scientist   janssen anzwor...</td>\n",
       "      <td>{'Seniority level': ['Not Applicable'], 'Emplo...</td>\n",
       "    </tr>\n",
       "    <tr>\n",
       "      <th>1</th>\n",
       "      <td>Data Scientist</td>\n",
       "      <td>https://uk.linkedin.com/company/hays?trk=publi...</td>\n",
       "      <td>2021-05-06</td>\n",
       "      <td>centrally located brisbane cbdmultiple work st...</td>\n",
       "      <td>{'Seniority level': ['Entry level'], 'Employme...</td>\n",
       "    </tr>\n",
       "    <tr>\n",
       "      <th>2</th>\n",
       "      <td>Machine Learning Engineer</td>\n",
       "      <td>https://au.linkedin.com/company/systemize-cons...</td>\n",
       "      <td>2021-05-07</td>\n",
       "      <td>·                  super        performance bo...</td>\n",
       "      <td>{'Employment type': ['Full-time']}</td>\n",
       "    </tr>\n",
       "    <tr>\n",
       "      <th>3</th>\n",
       "      <td>Data Scientist</td>\n",
       "      <td>https://au.linkedin.com/company/kpmg-australia...</td>\n",
       "      <td>2021-05-03</td>\n",
       "      <td>digital delta data scientist love solving comp...</td>\n",
       "      <td>{'Seniority level': ['Not Applicable'], 'Emplo...</td>\n",
       "    </tr>\n",
       "    <tr>\n",
       "      <th>4</th>\n",
       "      <td>Data Scientist</td>\n",
       "      <td>https://au.linkedin.com/company/commonwealthba...</td>\n",
       "      <td>2021-05-07</td>\n",
       "      <td>entry level data scientist   risk analyst oppo...</td>\n",
       "      <td>{'Seniority level': ['Entry level'], 'Employme...</td>\n",
       "    </tr>\n",
       "  </tbody>\n",
       "</table>\n",
       "</div>"
      ],
      "text/plain": [
       "                       title  \\\n",
       "0             Data Scientist   \n",
       "1             Data Scientist   \n",
       "2  Machine Learning Engineer   \n",
       "3             Data Scientist   \n",
       "4             Data Scientist   \n",
       "\n",
       "                                         company_url   published  \\\n",
       "0  https://www.linkedin.com/company/johnson-&-joh...  2021-05-07   \n",
       "1  https://uk.linkedin.com/company/hays?trk=publi...  2021-05-06   \n",
       "2  https://au.linkedin.com/company/systemize-cons...  2021-05-07   \n",
       "3  https://au.linkedin.com/company/kpmg-australia...  2021-05-03   \n",
       "4  https://au.linkedin.com/company/commonwealthba...  2021-05-07   \n",
       "\n",
       "                                         description  \\\n",
       "0  job descriptiondata scientist   janssen anzwor...   \n",
       "1  centrally located brisbane cbdmultiple work st...   \n",
       "2  ·                  super        performance bo...   \n",
       "3  digital delta data scientist love solving comp...   \n",
       "4  entry level data scientist   risk analyst oppo...   \n",
       "\n",
       "                                            criteria  \n",
       "0  {'Seniority level': ['Not Applicable'], 'Emplo...  \n",
       "1  {'Seniority level': ['Entry level'], 'Employme...  \n",
       "2                 {'Employment type': ['Full-time']}  \n",
       "3  {'Seniority level': ['Not Applicable'], 'Emplo...  \n",
       "4  {'Seniority level': ['Entry level'], 'Employme...  "
      ]
     },
     "execution_count": null,
     "metadata": {},
     "output_type": "execute_result"
    }
   ],
   "source": [
    "jobs.head()"
   ]
  },
  {
   "cell_type": "code",
   "execution_count": null,
   "metadata": {},
   "outputs": [],
   "source": [
    "# Save clean data\n",
    "jobs.to_csv(config.LINKEDIN_JOBS_CLEAN, index=False)"
   ]
  },
  {
   "cell_type": "markdown",
   "metadata": {},
   "source": [
    "### Create Document-Term Matrix"
   ]
  },
  {
   "cell_type": "code",
   "execution_count": null,
   "metadata": {},
   "outputs": [],
   "source": [
    "jobs = jobs.groupby(['title']).description.apply(lambda x: ','.join(x)).reset_index()"
   ]
  },
  {
   "cell_type": "code",
   "execution_count": null,
   "metadata": {},
   "outputs": [],
   "source": [
    "cvec = CountVectorizer(stop_words='english')\n",
    "data_cvec = cvec.fit_transform(jobs.description)\n",
    "data_dtm = pd.DataFrame(data_cvec.toarray(), columns=cvec.get_feature_names())\n",
    "data_dtm.index = jobs.title"
   ]
  },
  {
   "cell_type": "code",
   "execution_count": null,
   "metadata": {},
   "outputs": [],
   "source": [
    "data_dtm.to_csv(config.LINKEDIN_JOBS_DTM)"
   ]
  },
  {
   "cell_type": "code",
   "execution_count": null,
   "metadata": {},
   "outputs": [
    {
     "data": {
      "text/html": [
       "<div>\n",
       "<style scoped>\n",
       "    .dataframe tbody tr th:only-of-type {\n",
       "        vertical-align: middle;\n",
       "    }\n",
       "\n",
       "    .dataframe tbody tr th {\n",
       "        vertical-align: top;\n",
       "    }\n",
       "\n",
       "    .dataframe thead th {\n",
       "        text-align: right;\n",
       "    }\n",
       "</style>\n",
       "<table border=\"1\" class=\"dataframe\">\n",
       "  <thead>\n",
       "    <tr style=\"text-align: right;\">\n",
       "      <th></th>\n",
       "      <th>aa</th>\n",
       "      <th>abilities</th>\n",
       "      <th>abilitiespreferred</th>\n",
       "      <th>abilitiesshow</th>\n",
       "      <th>ability</th>\n",
       "      <th>able</th>\n",
       "      <th>aboriginal</th>\n",
       "      <th>abstraction</th>\n",
       "      <th>academic</th>\n",
       "      <th>accelerating</th>\n",
       "      <th>...</th>\n",
       "      <th>youyou</th>\n",
       "      <th>zealand</th>\n",
       "      <th>zealandextraordinary</th>\n",
       "      <th>zendeks</th>\n",
       "      <th>zendesk</th>\n",
       "      <th>zero</th>\n",
       "      <th>zip</th>\n",
       "      <th>zipster</th>\n",
       "      <th>zoo</th>\n",
       "      <th>zshow</th>\n",
       "    </tr>\n",
       "    <tr>\n",
       "      <th>title</th>\n",
       "      <th></th>\n",
       "      <th></th>\n",
       "      <th></th>\n",
       "      <th></th>\n",
       "      <th></th>\n",
       "      <th></th>\n",
       "      <th></th>\n",
       "      <th></th>\n",
       "      <th></th>\n",
       "      <th></th>\n",
       "      <th></th>\n",
       "      <th></th>\n",
       "      <th></th>\n",
       "      <th></th>\n",
       "      <th></th>\n",
       "      <th></th>\n",
       "      <th></th>\n",
       "      <th></th>\n",
       "      <th></th>\n",
       "      <th></th>\n",
       "      <th></th>\n",
       "    </tr>\n",
       "  </thead>\n",
       "  <tbody>\n",
       "    <tr>\n",
       "      <th>Data Analyst</th>\n",
       "      <td>0</td>\n",
       "      <td>0</td>\n",
       "      <td>1</td>\n",
       "      <td>1</td>\n",
       "      <td>39</td>\n",
       "      <td>7</td>\n",
       "      <td>7</td>\n",
       "      <td>0</td>\n",
       "      <td>0</td>\n",
       "      <td>0</td>\n",
       "      <td>...</td>\n",
       "      <td>0</td>\n",
       "      <td>1</td>\n",
       "      <td>0</td>\n",
       "      <td>0</td>\n",
       "      <td>0</td>\n",
       "      <td>1</td>\n",
       "      <td>0</td>\n",
       "      <td>0</td>\n",
       "      <td>4</td>\n",
       "      <td>0</td>\n",
       "    </tr>\n",
       "    <tr>\n",
       "      <th>Data Engineer</th>\n",
       "      <td>0</td>\n",
       "      <td>0</td>\n",
       "      <td>0</td>\n",
       "      <td>0</td>\n",
       "      <td>22</td>\n",
       "      <td>11</td>\n",
       "      <td>3</td>\n",
       "      <td>1</td>\n",
       "      <td>2</td>\n",
       "      <td>0</td>\n",
       "      <td>...</td>\n",
       "      <td>1</td>\n",
       "      <td>1</td>\n",
       "      <td>1</td>\n",
       "      <td>0</td>\n",
       "      <td>0</td>\n",
       "      <td>0</td>\n",
       "      <td>1</td>\n",
       "      <td>0</td>\n",
       "      <td>0</td>\n",
       "      <td>0</td>\n",
       "    </tr>\n",
       "    <tr>\n",
       "      <th>Data Scientist</th>\n",
       "      <td>0</td>\n",
       "      <td>5</td>\n",
       "      <td>0</td>\n",
       "      <td>0</td>\n",
       "      <td>16</td>\n",
       "      <td>8</td>\n",
       "      <td>5</td>\n",
       "      <td>0</td>\n",
       "      <td>9</td>\n",
       "      <td>5</td>\n",
       "      <td>...</td>\n",
       "      <td>2</td>\n",
       "      <td>6</td>\n",
       "      <td>0</td>\n",
       "      <td>0</td>\n",
       "      <td>0</td>\n",
       "      <td>0</td>\n",
       "      <td>12</td>\n",
       "      <td>3</td>\n",
       "      <td>0</td>\n",
       "      <td>0</td>\n",
       "    </tr>\n",
       "    <tr>\n",
       "      <th>Machine Learning Engineer</th>\n",
       "      <td>2</td>\n",
       "      <td>0</td>\n",
       "      <td>0</td>\n",
       "      <td>0</td>\n",
       "      <td>10</td>\n",
       "      <td>1</td>\n",
       "      <td>0</td>\n",
       "      <td>0</td>\n",
       "      <td>1</td>\n",
       "      <td>0</td>\n",
       "      <td>...</td>\n",
       "      <td>0</td>\n",
       "      <td>0</td>\n",
       "      <td>0</td>\n",
       "      <td>2</td>\n",
       "      <td>28</td>\n",
       "      <td>0</td>\n",
       "      <td>0</td>\n",
       "      <td>0</td>\n",
       "      <td>0</td>\n",
       "      <td>0</td>\n",
       "    </tr>\n",
       "    <tr>\n",
       "      <th>Software Engineer</th>\n",
       "      <td>0</td>\n",
       "      <td>1</td>\n",
       "      <td>0</td>\n",
       "      <td>0</td>\n",
       "      <td>2</td>\n",
       "      <td>1</td>\n",
       "      <td>0</td>\n",
       "      <td>0</td>\n",
       "      <td>0</td>\n",
       "      <td>0</td>\n",
       "      <td>...</td>\n",
       "      <td>0</td>\n",
       "      <td>0</td>\n",
       "      <td>0</td>\n",
       "      <td>0</td>\n",
       "      <td>0</td>\n",
       "      <td>0</td>\n",
       "      <td>0</td>\n",
       "      <td>0</td>\n",
       "      <td>0</td>\n",
       "      <td>1</td>\n",
       "    </tr>\n",
       "  </tbody>\n",
       "</table>\n",
       "<p>5 rows × 3777 columns</p>\n",
       "</div>"
      ],
      "text/plain": [
       "                           aa  abilities  abilitiespreferred  abilitiesshow  \\\n",
       "title                                                                         \n",
       "Data Analyst                0          0                   1              1   \n",
       "Data Engineer               0          0                   0              0   \n",
       "Data Scientist              0          5                   0              0   \n",
       "Machine Learning Engineer   2          0                   0              0   \n",
       "Software Engineer           0          1                   0              0   \n",
       "\n",
       "                           ability  able  aboriginal  abstraction  academic  \\\n",
       "title                                                                         \n",
       "Data Analyst                    39     7           7            0         0   \n",
       "Data Engineer                   22    11           3            1         2   \n",
       "Data Scientist                  16     8           5            0         9   \n",
       "Machine Learning Engineer       10     1           0            0         1   \n",
       "Software Engineer                2     1           0            0         0   \n",
       "\n",
       "                           accelerating  ...  youyou  zealand  \\\n",
       "title                                    ...                    \n",
       "Data Analyst                          0  ...       0        1   \n",
       "Data Engineer                         0  ...       1        1   \n",
       "Data Scientist                        5  ...       2        6   \n",
       "Machine Learning Engineer             0  ...       0        0   \n",
       "Software Engineer                     0  ...       0        0   \n",
       "\n",
       "                           zealandextraordinary  zendeks  zendesk  zero  zip  \\\n",
       "title                                                                          \n",
       "Data Analyst                                  0        0        0     1    0   \n",
       "Data Engineer                                 1        0        0     0    1   \n",
       "Data Scientist                                0        0        0     0   12   \n",
       "Machine Learning Engineer                     0        2       28     0    0   \n",
       "Software Engineer                             0        0        0     0    0   \n",
       "\n",
       "                           zipster  zoo  zshow  \n",
       "title                                           \n",
       "Data Analyst                     0    4      0  \n",
       "Data Engineer                    0    0      0  \n",
       "Data Scientist                   3    0      0  \n",
       "Machine Learning Engineer        0    0      0  \n",
       "Software Engineer                0    0      1  \n",
       "\n",
       "[5 rows x 3777 columns]"
      ]
     },
     "execution_count": null,
     "metadata": {},
     "output_type": "execute_result"
    }
   ],
   "source": [
    "data_dtm"
   ]
  },
  {
   "cell_type": "code",
   "execution_count": null,
   "metadata": {},
   "outputs": [],
   "source": []
  },
  {
   "cell_type": "code",
   "execution_count": null,
   "metadata": {},
   "outputs": [],
   "source": []
  }
 ],
 "metadata": {
  "kernelspec": {
   "display_name": "Python 3",
   "language": "python",
   "name": "python3"
  }
 },
 "nbformat": 4,
 "nbformat_minor": 4
}
