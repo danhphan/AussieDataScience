{
 "cells": [
  {
   "cell_type": "code",
   "execution_count": null,
   "metadata": {},
   "outputs": [],
   "source": [
    "# default_exp data_collection_linkedin_job_list"
   ]
  },
  {
   "cell_type": "markdown",
   "metadata": {},
   "source": [
    "# data_collection_linkedin_job_list\n",
    "\n",
    "> API details."
   ]
  },
  {
   "cell_type": "code",
   "execution_count": null,
   "metadata": {},
   "outputs": [],
   "source": [
    "#hide\n",
    "# from nbdev.showdoc import *"
   ]
  },
  {
   "cell_type": "code",
   "execution_count": null,
   "metadata": {},
   "outputs": [],
   "source": [
    "import re, time, requests\n",
    "import pandas as pd\n",
    "from parsel import Selector\n",
    "from selenium import webdriver\n",
    "from selenium.webdriver import *\n",
    "from selenium.webdriver.chrome.options import Options\n",
    "import config"
   ]
  },
  {
   "cell_type": "code",
   "execution_count": null,
   "metadata": {},
   "outputs": [],
   "source": [
    "def get_driver(url):\n",
    "    chrome_options = Options()\n",
    "    chrome_options.add_argument(\"--headless\")\n",
    "    driver = webdriver.Chrome(\n",
    "        executable_path=config.PATH_CHROME_DRIVER,\n",
    "        options=chrome_options)\n",
    "    driver.get(url)\n",
    "    return driver\n",
    "\n",
    "def get_ref_id(job_url):\n",
    "    try:\n",
    "        found = re.search('(?<=refId=).*(?=&trackingId)', job_url).group()\n",
    "    except AttributeError:\n",
    "        found = ''\n",
    "    return found\n",
    "\n",
    "def get_job_info(selector):\n",
    "    title = selector.css('h3::text').get().strip()\n",
    "    published = selector.xpath(\"//time/@datetime\").get()\n",
    "    job_url = selector.xpath(\"//a/@href\").get()    \n",
    "    return [title, published, job_url]\n",
    "    \n",
    "def get_job_list(driver):\n",
    "    job_list = driver.find_elements_by_xpath(\"//ul[contains(@class,'jobs-search__results-list')]/li\")    \n",
    "    for job in job_list:\n",
    "        time.sleep(0.2)\n",
    "        selector = Selector(text=job.get_attribute(\"outerHTML\"))\n",
    "        yield get_job_info(selector)        "
   ]
  },
  {
   "cell_type": "markdown",
   "metadata": {},
   "source": [
    "### Crawling the job list and append into a csv file"
   ]
  },
  {
   "cell_type": "code",
   "execution_count": null,
   "metadata": {},
   "outputs": [],
   "source": [
    "for url in config.LINKEDIN_URLS:\n",
    "    driver = get_driver(url)\n",
    "    job_list = list(get_job_list(driver))\n",
    "    jobs = pd.DataFrame(job_list, columns=['title','published', 'url'])\n",
    "    jobs.to_csv(config.LINKEDIN_JOBLIST, mode='a', index=False)"
   ]
  },
  {
   "cell_type": "markdown",
   "metadata": {},
   "source": [
    "### Cleaning the job list file"
   ]
  },
  {
   "cell_type": "code",
   "execution_count": null,
   "metadata": {},
   "outputs": [
    {
     "data": {
      "text/plain": [
       "(113, 3)"
      ]
     },
     "execution_count": null,
     "metadata": {},
     "output_type": "execute_result"
    }
   ],
   "source": [
    "jobs_df = pd.read_csv(config.LINKEDIN_JOBLIST)\n",
    "jobs_df.shape"
   ]
  },
  {
   "cell_type": "code",
   "execution_count": null,
   "metadata": {},
   "outputs": [
    {
     "data": {
      "text/html": [
       "<div>\n",
       "<style scoped>\n",
       "    .dataframe tbody tr th:only-of-type {\n",
       "        vertical-align: middle;\n",
       "    }\n",
       "\n",
       "    .dataframe tbody tr th {\n",
       "        vertical-align: top;\n",
       "    }\n",
       "\n",
       "    .dataframe thead th {\n",
       "        text-align: right;\n",
       "    }\n",
       "</style>\n",
       "<table border=\"1\" class=\"dataframe\">\n",
       "  <thead>\n",
       "    <tr style=\"text-align: right;\">\n",
       "      <th></th>\n",
       "      <th>title</th>\n",
       "      <th>published</th>\n",
       "      <th>url</th>\n",
       "    </tr>\n",
       "  </thead>\n",
       "  <tbody>\n",
       "    <tr>\n",
       "      <th>0</th>\n",
       "      <td>Data Scientist</td>\n",
       "      <td>2021-05-07</td>\n",
       "      <td>https://au.linkedin.com/jobs/view/data-scienti...</td>\n",
       "    </tr>\n",
       "    <tr>\n",
       "      <th>1</th>\n",
       "      <td>Data Scientist</td>\n",
       "      <td>2021-05-06</td>\n",
       "      <td>https://au.linkedin.com/jobs/view/data-scienti...</td>\n",
       "    </tr>\n",
       "    <tr>\n",
       "      <th>2</th>\n",
       "      <td>Data Scientist - Artificial Intelligence/Machi...</td>\n",
       "      <td>2021-05-07</td>\n",
       "      <td>https://au.linkedin.com/jobs/view/data-scienti...</td>\n",
       "    </tr>\n",
       "    <tr>\n",
       "      <th>3</th>\n",
       "      <td>Data Scientist</td>\n",
       "      <td>2021-05-03</td>\n",
       "      <td>https://au.linkedin.com/jobs/view/data-scienti...</td>\n",
       "    </tr>\n",
       "    <tr>\n",
       "      <th>4</th>\n",
       "      <td>Entry level Data Scientist / Risk Analyst oppo...</td>\n",
       "      <td>2021-05-07</td>\n",
       "      <td>https://au.linkedin.com/jobs/view/entry-level-...</td>\n",
       "    </tr>\n",
       "    <tr>\n",
       "      <th>...</th>\n",
       "      <td>...</td>\n",
       "      <td>...</td>\n",
       "      <td>...</td>\n",
       "    </tr>\n",
       "    <tr>\n",
       "      <th>108</th>\n",
       "      <td>ML / Data Engineer</td>\n",
       "      <td>2021-05-01</td>\n",
       "      <td>https://au.linkedin.com/jobs/view/ml-data-engi...</td>\n",
       "    </tr>\n",
       "    <tr>\n",
       "      <th>109</th>\n",
       "      <td>Data Engineer</td>\n",
       "      <td>2021-05-07</td>\n",
       "      <td>https://au.linkedin.com/jobs/view/data-enginee...</td>\n",
       "    </tr>\n",
       "    <tr>\n",
       "      <th>110</th>\n",
       "      <td>Robotics Software Engineer - SLAM</td>\n",
       "      <td>2021-05-07</td>\n",
       "      <td>https://au.linkedin.com/jobs/view/robotics-sof...</td>\n",
       "    </tr>\n",
       "    <tr>\n",
       "      <th>111</th>\n",
       "      <td>Data engineer</td>\n",
       "      <td>2021-05-04</td>\n",
       "      <td>https://au.linkedin.com/jobs/view/data-enginee...</td>\n",
       "    </tr>\n",
       "    <tr>\n",
       "      <th>112</th>\n",
       "      <td>Data Scientist- Actuarial</td>\n",
       "      <td>2021-05-05</td>\n",
       "      <td>https://au.linkedin.com/jobs/view/data-scienti...</td>\n",
       "    </tr>\n",
       "  </tbody>\n",
       "</table>\n",
       "<p>113 rows × 3 columns</p>\n",
       "</div>"
      ],
      "text/plain": [
       "                                                 title   published  \\\n",
       "0                                       Data Scientist  2021-05-07   \n",
       "1                                       Data Scientist  2021-05-06   \n",
       "2    Data Scientist - Artificial Intelligence/Machi...  2021-05-07   \n",
       "3                                       Data Scientist  2021-05-03   \n",
       "4    Entry level Data Scientist / Risk Analyst oppo...  2021-05-07   \n",
       "..                                                 ...         ...   \n",
       "108                                 ML / Data Engineer  2021-05-01   \n",
       "109                                      Data Engineer  2021-05-07   \n",
       "110                  Robotics Software Engineer - SLAM  2021-05-07   \n",
       "111                                      Data engineer  2021-05-04   \n",
       "112                          Data Scientist- Actuarial  2021-05-05   \n",
       "\n",
       "                                                   url  \n",
       "0    https://au.linkedin.com/jobs/view/data-scienti...  \n",
       "1    https://au.linkedin.com/jobs/view/data-scienti...  \n",
       "2    https://au.linkedin.com/jobs/view/data-scienti...  \n",
       "3    https://au.linkedin.com/jobs/view/data-scienti...  \n",
       "4    https://au.linkedin.com/jobs/view/entry-level-...  \n",
       "..                                                 ...  \n",
       "108  https://au.linkedin.com/jobs/view/ml-data-engi...  \n",
       "109  https://au.linkedin.com/jobs/view/data-enginee...  \n",
       "110  https://au.linkedin.com/jobs/view/robotics-sof...  \n",
       "111  https://au.linkedin.com/jobs/view/data-enginee...  \n",
       "112  https://au.linkedin.com/jobs/view/data-scienti...  \n",
       "\n",
       "[113 rows x 3 columns]"
      ]
     },
     "execution_count": null,
     "metadata": {},
     "output_type": "execute_result"
    }
   ],
   "source": [
    "jobs_df"
   ]
  },
  {
   "cell_type": "code",
   "execution_count": null,
   "metadata": {},
   "outputs": [
    {
     "data": {
      "text/plain": [
       "(109, 3)"
      ]
     },
     "execution_count": null,
     "metadata": {},
     "output_type": "execute_result"
    }
   ],
   "source": [
    "# Remove row without published date and appropriate url\n",
    "jobs_df = jobs_df[~(jobs_df.published == \"published\")]\n",
    "jobs_df.shape"
   ]
  },
  {
   "cell_type": "code",
   "execution_count": null,
   "metadata": {},
   "outputs": [
    {
     "data": {
      "text/plain": [
       "(109, 3)"
      ]
     },
     "execution_count": null,
     "metadata": {},
     "output_type": "execute_result"
    }
   ],
   "source": [
    "# Remove duplicate rows\n",
    "jobs_df.drop_duplicates(inplace=True)\n",
    "jobs_df.shape"
   ]
  },
  {
   "cell_type": "code",
   "execution_count": null,
   "metadata": {},
   "outputs": [],
   "source": [
    "jobs_df.to_csv(config.LINKEDIN_JOBLIST, index=False)"
   ]
  },
  {
   "cell_type": "code",
   "execution_count": null,
   "metadata": {},
   "outputs": [
    {
     "data": {
      "text/plain": [
       "['https://au.linkedin.com/jobs/view/data-scientist-at-johnson-johnson-2523010666?refId=pDIOHoTw%2BlhRhzcfmg0U8g%3D%3D&trackingId=chmlqIbbuE9Ha5oZbb2a2A%3D%3D&position=1&pageNum=0&trk=public_jobs_jserp-result_search-card',\n",
       " 'https://au.linkedin.com/jobs/view/data-scientist-at-hays-2520456145?refId=pDIOHoTw%2BlhRhzcfmg0U8g%3D%3D&trackingId=SSSrO0KQTpYhDUfcfiCWDA%3D%3D&position=2&pageNum=0&trk=public_jobs_jserp-result_search-card',\n",
       " 'https://au.linkedin.com/jobs/view/data-scientist-artificial-intelligence-machine-learning-at-systemize-consulting-2511444090?refId=pDIOHoTw%2BlhRhzcfmg0U8g%3D%3D&trackingId=o5kmsfnDL6cmouVkmQnuUw%3D%3D&position=3&pageNum=0&trk=public_jobs_jserp-result_search-card',\n",
       " 'https://au.linkedin.com/jobs/view/data-scientist-at-kpmg-australia-2434288087?refId=pDIOHoTw%2BlhRhzcfmg0U8g%3D%3D&trackingId=t2EmevW8cSSLYyJakAAI3g%3D%3D&position=4&pageNum=0&trk=public_jobs_jserp-result_search-card',\n",
       " 'https://au.linkedin.com/jobs/view/entry-level-data-scientist-risk-analyst-opportunities-at-commonwealth-bank-2537608771?refId=pDIOHoTw%2BlhRhzcfmg0U8g%3D%3D&trackingId=7%2FpZyWBTXvMVTdx2eXpEgQ%3D%3D&position=5&pageNum=0&trk=public_jobs_jserp-result_search-card',\n",
       " 'https://au.linkedin.com/jobs/view/data-scientist-quantumblack-at-quantumblack-2466643642?refId=pDIOHoTw%2BlhRhzcfmg0U8g%3D%3D&trackingId=O0s0STBZwc2BhVw4g8n37w%3D%3D&position=6&pageNum=0&trk=public_jobs_jserp-result_search-card',\n",
       " 'https://au.linkedin.com/jobs/view/data-scientist-at-intelligen-2536916685?refId=pDIOHoTw%2BlhRhzcfmg0U8g%3D%3D&trackingId=qkvbQhF2tOzDUUAIiX3A2Q%3D%3D&position=7&pageNum=0&trk=public_jobs_jserp-result_search-card',\n",
       " 'https://au.linkedin.com/jobs/view/data-scientist-customer-analytics-at-zip-co-2519099671?refId=pDIOHoTw%2BlhRhzcfmg0U8g%3D%3D&trackingId=85tB58kBGWOeChRYBBuqRw%3D%3D&position=8&pageNum=0&trk=public_jobs_jserp-result_search-card',\n",
       " 'https://au.linkedin.com/jobs/view/data-science-specialist-at-telstra-2520437798?refId=pDIOHoTw%2BlhRhzcfmg0U8g%3D%3D&trackingId=olrvD7z4mak96ojsUzzybg%3D%3D&position=9&pageNum=0&trk=public_jobs_jserp-result_search-card',\n",
       " 'https://au.linkedin.com/jobs/view/data-analyst-anz-at-uber-2444560961?refId=pDIOHoTw%2BlhRhzcfmg0U8g%3D%3D&trackingId=XRDiXOVTVtYTi0hMUaSvPg%3D%3D&position=10&pageNum=0&trk=public_jobs_jserp-result_search-card',\n",
       " 'https://au.linkedin.com/jobs/view/data-scientist-at-paxus-technology-%2B-digital-talent-2515385745?refId=pDIOHoTw%2BlhRhzcfmg0U8g%3D%3D&trackingId=PgKmw8SAQ5nMm%2FKKZH59zw%3D%3D&position=11&pageNum=0&trk=public_jobs_jserp-result_search-card',\n",
       " 'https://au.linkedin.com/jobs/view/data-scientist-at-talent-insights-group-2515312630?refId=pDIOHoTw%2BlhRhzcfmg0U8g%3D%3D&trackingId=RqG%2B8z9chx6Hou8ZwSMXow%3D%3D&position=12&pageNum=0&trk=public_jobs_jserp-result_search-card',\n",
       " 'https://au.linkedin.com/jobs/view/insights-and-data-science-analysts-at-7-eleven-australia-2516539234?refId=pDIOHoTw%2BlhRhzcfmg0U8g%3D%3D&trackingId=Nkg90o2AeNGAQ65XvRwyXA%3D%3D&position=13&pageNum=0&trk=public_jobs_jserp-result_search-card',\n",
       " 'https://au.linkedin.com/jobs/view/datascientist-at-reesby-2532815683?refId=pDIOHoTw%2BlhRhzcfmg0U8g%3D%3D&trackingId=3VJpCnqdwd5t7RfpSPCZHw%3D%3D&position=14&pageNum=0&trk=public_jobs_jserp-result_search-card',\n",
       " 'https://au.linkedin.com/jobs/view/data-scientist-actuarial-at-deloitte-australia-2517777054?refId=pDIOHoTw%2BlhRhzcfmg0U8g%3D%3D&trackingId=DIudmxPcWE35%2Ba4kp6blYQ%3D%3D&position=15&pageNum=0&trk=public_jobs_jserp-result_search-card',\n",
       " 'https://au.linkedin.com/jobs/view/principal-data-scientist-at-pra-2515308918?refId=pDIOHoTw%2BlhRhzcfmg0U8g%3D%3D&trackingId=XOFIVp%2BLNzLNF%2BnDZj1Lkg%3D%3D&position=16&pageNum=0&trk=public_jobs_jserp-result_search-card',\n",
       " 'https://au.linkedin.com/jobs/view/data-science-engineer-at-boeing-2523051863?refId=pDIOHoTw%2BlhRhzcfmg0U8g%3D%3D&trackingId=9V%2Bp1wUKC9UssZFyP5vmaA%3D%3D&position=17&pageNum=0&trk=public_jobs_jserp-result_search-card',\n",
       " 'https://au.linkedin.com/jobs/view/investment-data-analyst-at-vanguard-2522275658?refId=pDIOHoTw%2BlhRhzcfmg0U8g%3D%3D&trackingId=tBR2WqNqAfjrhDgEb4a%2F%2Bw%3D%3D&position=18&pageNum=0&trk=public_jobs_jserp-result_search-card',\n",
       " 'https://au.linkedin.com/jobs/view/data-analyst-at-anz-2515314292?refId=pDIOHoTw%2BlhRhzcfmg0U8g%3D%3D&trackingId=5IHNSoF1pBo75ovrVhFfQA%3D%3D&position=19&pageNum=0&trk=public_jobs_jserp-result_search-card',\n",
       " 'https://au.linkedin.com/jobs/view/data-analyst-anz-at-uber-2444560961?refId=ko7Uul3WaJb6iJ385%2Bi3QQ%3D%3D&trackingId=vuBwu4JA%2F8NiQnvkX48PVA%3D%3D&position=1&pageNum=0&trk=public_jobs_job-result-card_result-card_full-click',\n",
       " 'https://au.linkedin.com/jobs/view/entry-level-data-scientist-risk-analyst-opportunities-at-commonwealth-bank-2537608771?refId=ko7Uul3WaJb6iJ385%2Bi3QQ%3D%3D&trackingId=xNLgcrZLbz4NpTPqduNuQw%3D%3D&position=2&pageNum=0&trk=public_jobs_job-result-card_result-card_full-click',\n",
       " 'https://au.linkedin.com/jobs/view/data-analyst-at-anz-2515314292?refId=ko7Uul3WaJb6iJ385%2Bi3QQ%3D%3D&trackingId=liawwil0ELvLou302a2cOg%3D%3D&position=3&pageNum=0&trk=public_jobs_job-result-card_result-card_full-click',\n",
       " 'https://au.linkedin.com/jobs/view/business-analyst-at-wipro-limited-2523069295?refId=ko7Uul3WaJb6iJ385%2Bi3QQ%3D%3D&trackingId=ca0dGsy2IDLWEEp5MEbLJA%3D%3D&position=4&pageNum=0&trk=public_jobs_job-result-card_result-card_full-click',\n",
       " 'https://au.linkedin.com/jobs/view/analyst-at-westpac-2523076522?refId=ko7Uul3WaJb6iJ385%2Bi3QQ%3D%3D&trackingId=p5%2B0T7ao%2BV1XOPiDuwcxrA%3D%3D&position=5&pageNum=0&trk=public_jobs_job-result-card_result-card_full-click',\n",
       " 'https://au.linkedin.com/jobs/view/data-analyst-at-centorrino-technologies-2532740382?refId=ko7Uul3WaJb6iJ385%2Bi3QQ%3D%3D&trackingId=UP2uwXX%2FO4%2BbHkkBD4D3LQ%3D%3D&position=6&pageNum=0&trk=public_jobs_job-result-card_result-card_full-click',\n",
       " 'https://au.linkedin.com/jobs/view/investment-data-analyst-at-vanguard-2522275658?refId=ko7Uul3WaJb6iJ385%2Bi3QQ%3D%3D&trackingId=eUaJGCLF6%2Bz73ehFqWftwQ%3D%3D&position=7&pageNum=0&trk=public_jobs_job-result-card_result-card_full-click',\n",
       " 'https://au.linkedin.com/jobs/view/data-analyst-at-capgemini-2517776192?refId=ko7Uul3WaJb6iJ385%2Bi3QQ%3D%3D&trackingId=cqPRSuSlZYVRvn9c6mRS5w%3D%3D&position=8&pageNum=0&trk=public_jobs_job-result-card_result-card_full-click',\n",
       " 'https://au.linkedin.com/jobs/view/data-analyst-at-deputy-2516547975?refId=ko7Uul3WaJb6iJ385%2Bi3QQ%3D%3D&trackingId=KFREtr6PPdmfTHf40Fpg6w%3D%3D&position=9&pageNum=0&trk=public_jobs_job-result-card_result-card_full-click',\n",
       " 'https://au.linkedin.com/jobs/view/data-analyst-at-perpetual-limited-2523043396?refId=ko7Uul3WaJb6iJ385%2Bi3QQ%3D%3D&trackingId=RMLE0busCSJuoFZxDIAP5g%3D%3D&position=10&pageNum=0&trk=public_jobs_job-result-card_result-card_full-click',\n",
       " 'https://au.linkedin.com/jobs/view/data-analyst-at-nsw-department-of-planning-industry-and-environment-2515352091?refId=ko7Uul3WaJb6iJ385%2Bi3QQ%3D%3D&trackingId=izgRQTDtuhD3RLZt2HWkLg%3D%3D&position=11&pageNum=0&trk=public_jobs_job-result-card_result-card_full-click',\n",
       " 'https://au.linkedin.com/jobs/view/data-analyst-at-asg-group-2516540822?refId=ko7Uul3WaJb6iJ385%2Bi3QQ%3D%3D&trackingId=lijt4pJP0GBdV1WAOs1g%2Bw%3D%3D&position=12&pageNum=0&trk=public_jobs_job-result-card_result-card_full-click',\n",
       " 'https://au.linkedin.com/jobs/view/hr-data-analyst-at-amazon-2519011739?refId=ko7Uul3WaJb6iJ385%2Bi3QQ%3D%3D&trackingId=JV%2BuQRMn3iU%2FNdDasEBQrg%3D%3D&position=13&pageNum=0&trk=public_jobs_job-result-card_result-card_full-click',\n",
       " 'https://au.linkedin.com/jobs/view/business-analyst-at-hays-2522295069?refId=ko7Uul3WaJb6iJ385%2Bi3QQ%3D%3D&trackingId=130BRqWEB31rWNrXV8EsYg%3D%3D&position=14&pageNum=0&trk=public_jobs_job-result-card_result-card_full-click',\n",
       " 'https://au.linkedin.com/jobs/view/remote-business-analyst-at-foxhound-partners-2522250750?refId=ko7Uul3WaJb6iJ385%2Bi3QQ%3D%3D&trackingId=hQjj%2FWotO7JZgrq9O8THaw%3D%3D&position=15&pageNum=0&trk=public_jobs_job-result-card_result-card_full-click',\n",
       " 'https://au.linkedin.com/jobs/view/data-analyst-at-maltem-australia-2520448637?refId=ko7Uul3WaJb6iJ385%2Bi3QQ%3D%3D&trackingId=delZnRlv%2BSY3VxBJl%2FPxZA%3D%3D&position=16&pageNum=0&trk=public_jobs_job-result-card_result-card_full-click',\n",
       " 'https://au.linkedin.com/jobs/view/business-analyst-at-tata-consultancy-services-2514296238?refId=ko7Uul3WaJb6iJ385%2Bi3QQ%3D%3D&trackingId=VXoUf8rFeBBwMLkP%2BwpClQ%3D%3D&position=17&pageNum=0&trk=public_jobs_job-result-card_result-card_full-click',\n",
       " 'https://au.linkedin.com/jobs/view/data-reporting-analyst-at-jb-hi-fi-2516541434?refId=ko7Uul3WaJb6iJ385%2Bi3QQ%3D%3D&trackingId=dvfLT0fK8O0HeqKncezRpg%3D%3D&position=18&pageNum=0&trk=public_jobs_job-result-card_result-card_full-click',\n",
       " 'https://au.linkedin.com/jobs/view/junior-business-analyst-entry-level-at-valiant-finance-2520402500?refId=ko7Uul3WaJb6iJ385%2Bi3QQ%3D%3D&trackingId=KeCVH7i1ZF72GJgd5eilow%3D%3D&position=19&pageNum=0&trk=public_jobs_job-result-card_result-card_full-click',\n",
       " 'https://au.linkedin.com/jobs/view/data-engineer-at-hcl-technologies-2506197987?refId=L527c9lYVZyA2GN0wP4EvA%3D%3D&trackingId=tmQwt28aCp0eTAMvgseFTw%3D%3D&position=1&pageNum=0&trk=public_jobs_job-result-card_result-card_full-click',\n",
       " 'https://au.linkedin.com/jobs/view/data-engineer-at-insight-timer-2523047641?refId=L527c9lYVZyA2GN0wP4EvA%3D%3D&trackingId=UkTLX0lMHy%2BhxFLEdd4KKA%3D%3D&position=2&pageNum=0&trk=public_jobs_job-result-card_result-card_full-click',\n",
       " 'https://au.linkedin.com/jobs/view/data-engineer-at-adept-insight-2522297892?refId=L527c9lYVZyA2GN0wP4EvA%3D%3D&trackingId=Zw7pOlrfjEwqOHyW7eCCNA%3D%3D&position=3&pageNum=0&trk=public_jobs_job-result-card_result-card_full-click',\n",
       " 'https://au.linkedin.com/jobs/view/data-engineer-at-anz-2515316071?refId=L527c9lYVZyA2GN0wP4EvA%3D%3D&trackingId=3UoO7ktUakIOz%2FTT4oG0vg%3D%3D&position=4&pageNum=0&trk=public_jobs_job-result-card_result-card_full-click',\n",
       " 'https://au.linkedin.com/jobs/view/data-engineer-at-comparethemarket-com-au-2520472055?refId=L527c9lYVZyA2GN0wP4EvA%3D%3D&trackingId=0MU7psrVc5UW%2B3n56KrXeA%3D%3D&position=5&pageNum=0&trk=public_jobs_job-result-card_result-card_full-click',\n",
       " 'https://au.linkedin.com/jobs/view/data-engineer-at-p-n-bank-2514295855?refId=L527c9lYVZyA2GN0wP4EvA%3D%3D&trackingId=2dLd%2BkJzJPbx5IowaYthUA%3D%3D&position=6&pageNum=0&trk=public_jobs_job-result-card_result-card_full-click',\n",
       " 'https://au.linkedin.com/jobs/view/data-engineer-at-hsd-people-2520407686?refId=L527c9lYVZyA2GN0wP4EvA%3D%3D&trackingId=qETi%2F0jeYnhllb0M3414rA%3D%3D&position=7&pageNum=0&trk=public_jobs_job-result-card_result-card_full-click',\n",
       " 'https://au.linkedin.com/jobs/view/data-engineer-at-bendigo-and-adelaide-bank-2519001441?refId=L527c9lYVZyA2GN0wP4EvA%3D%3D&trackingId=FAB2h80y9abmuF5Va7F%2FZg%3D%3D&position=8&pageNum=0&trk=public_jobs_job-result-card_result-card_full-click',\n",
       " 'https://au.linkedin.com/jobs/view/data-engineer-at-aquent-2515336367?refId=L527c9lYVZyA2GN0wP4EvA%3D%3D&trackingId=%2FFYfkoXxuLy6sMQXkqtvdw%3D%3D&position=9&pageNum=0&trk=public_jobs_job-result-card_result-card_full-click',\n",
       " 'https://au.linkedin.com/jobs/view/data-engineer-at-client-server-2535779953?refId=L527c9lYVZyA2GN0wP4EvA%3D%3D&trackingId=nnlB7NeJ3oqXfAtJuUMOxA%3D%3D&position=10&pageNum=0&trk=public_jobs_job-result-card_result-card_full-click',\n",
       " 'https://au.linkedin.com/jobs/view/data-engineer-at-plenti-2520461332?refId=L527c9lYVZyA2GN0wP4EvA%3D%3D&trackingId=%2FtEWpQhVtXXQK%2FUjS%2BN2vA%3D%3D&position=11&pageNum=0&trk=public_jobs_job-result-card_result-card_full-click',\n",
       " 'https://au.linkedin.com/jobs/view/junior-data-engineer-at-ampion-2531781839?refId=L527c9lYVZyA2GN0wP4EvA%3D%3D&trackingId=1Oe%2Bt2Xzj6cEaj%2BsdNXwEw%3D%3D&position=12&pageNum=0&trk=public_jobs_job-result-card_result-card_full-click',\n",
       " 'https://au.linkedin.com/jobs/view/data-engineer-at-versent-2523017067?refId=L527c9lYVZyA2GN0wP4EvA%3D%3D&trackingId=ITOB5TRXFvGTExPtgDUxkA%3D%3D&position=13&pageNum=0&trk=public_jobs_job-result-card_result-card_full-click',\n",
       " 'https://au.linkedin.com/jobs/view/data-lead-engineer-at-2xm-technology-pty-ltd-2522281649?refId=L527c9lYVZyA2GN0wP4EvA%3D%3D&trackingId=49D9ufEQiYFBET34H8jhJA%3D%3D&position=14&pageNum=0&trk=public_jobs_job-result-card_result-card_full-click',\n",
       " 'https://au.linkedin.com/jobs/view/data-engineer-snowflake-at-ampstek-2517754412?refId=L527c9lYVZyA2GN0wP4EvA%3D%3D&trackingId=su4qvnjxt%2FTeXo73tQMkJw%3D%3D&position=15&pageNum=0&trk=public_jobs_job-result-card_result-card_full-click',\n",
       " 'https://au.linkedin.com/jobs/view/data-engineer-at-adairs-retail-group-2517793192?refId=L527c9lYVZyA2GN0wP4EvA%3D%3D&trackingId=4UmlOEiehjKX6%2FnNGE507g%3D%3D&position=16&pageNum=0&trk=public_jobs_job-result-card_result-card_full-click',\n",
       " 'https://au.linkedin.com/jobs/view/data-science-engineer-at-boeing-2523051863?refId=L527c9lYVZyA2GN0wP4EvA%3D%3D&trackingId=jnAkEHGtxpP3eKnUhzIeMA%3D%3D&position=17&pageNum=0&trk=public_jobs_job-result-card_result-card_full-click',\n",
       " 'https://au.linkedin.com/jobs/view/data-engineer-at-quantium-2460890586?refId=L527c9lYVZyA2GN0wP4EvA%3D%3D&trackingId=k0b6oW%2FrLON0CV0nae4Hmg%3D%3D&position=18&pageNum=0&trk=public_jobs_job-result-card_result-card_full-click',\n",
       " 'https://au.linkedin.com/jobs/view/data-engineer-at-hsd-2535783394?refId=L527c9lYVZyA2GN0wP4EvA%3D%3D&trackingId=ewO3Vhnnrg7L3HSPcd2kKw%3D%3D&position=19&pageNum=0&trk=public_jobs_job-result-card_result-card_full-click',\n",
       " 'https://au.linkedin.com/jobs/view/data-engineer-quantumblack-at-quantumblack-2466642865?refId=L527c9lYVZyA2GN0wP4EvA%3D%3D&trackingId=Uuqeymqa%2FRmmZZIZxxrkhg%3D%3D&position=20&pageNum=0&trk=public_jobs_job-result-card_result-card_full-click',\n",
       " 'https://au.linkedin.com/jobs/view/data-engineer-at-paxus-technology-%2B-digital-talent-2536356110?refId=L527c9lYVZyA2GN0wP4EvA%3D%3D&trackingId=jpKA1OaA9D7fNLJxfoC9iA%3D%3D&position=21&pageNum=0&trk=public_jobs_job-result-card_result-card_full-click',\n",
       " 'https://au.linkedin.com/jobs/view/data-engineer-at-talent-2523018126?refId=L527c9lYVZyA2GN0wP4EvA%3D%3D&trackingId=ilT%2FJnyspuAfF0yf0ou%2Bug%3D%3D&position=22&pageNum=0&trk=public_jobs_job-result-card_result-card_full-click',\n",
       " 'https://au.linkedin.com/jobs/view/data-analyst-anz-at-uber-2444560961?refId=L527c9lYVZyA2GN0wP4EvA%3D%3D&trackingId=1nWo1aTgqbW%2FcuEj77bReQ%3D%3D&position=23&pageNum=0&trk=public_jobs_job-result-card_result-card_full-click',\n",
       " 'https://au.linkedin.com/jobs/view/entry-level-data-scientist-risk-analyst-opportunities-at-commonwealth-bank-2537608771?refId=L527c9lYVZyA2GN0wP4EvA%3D%3D&trackingId=BD3QMN9SNcrc8nOCTo0Mpg%3D%3D&position=24&pageNum=0&trk=public_jobs_job-result-card_result-card_full-click',\n",
       " 'https://au.linkedin.com/jobs/view/phd-student-at-australian-institute-for-machine-learning-aiml-2523092084?refId=m8m0xrQ7A9YJe4X7oa7ARg%3D%3D&trackingId=8sMxKY1U%2BLUNjbYkeRuoiQ%3D%3D&position=1&pageNum=0&trk=public_jobs_job-result-card_result-card_full-click',\n",
       " 'https://au.linkedin.com/jobs/view/data-scientist-artificial-intelligence-machine-learning-at-systemize-consulting-2511444090?refId=m8m0xrQ7A9YJe4X7oa7ARg%3D%3D&trackingId=iNV2cCPwCb2LMdeEfOGFNg%3D%3D&position=2&pageNum=0&trk=public_jobs_job-result-card_result-card_full-click',\n",
       " 'https://au.linkedin.com/jobs/view/applied-scientist-intern-at-amazon-2431581243?refId=m8m0xrQ7A9YJe4X7oa7ARg%3D%3D&trackingId=8rlM7kKS2j9rvfIACkvFeg%3D%3D&position=3&pageNum=0&trk=public_jobs_job-result-card_result-card_full-click',\n",
       " 'https://au.linkedin.com/jobs/view/machine-learning-engineer-intern-at-canva-2520400129?refId=m8m0xrQ7A9YJe4X7oa7ARg%3D%3D&trackingId=HP4mTbuIG394m2zpUug%2Fgw%3D%3D&position=4&pageNum=0&trk=public_jobs_job-result-card_result-card_full-click',\n",
       " 'https://au.linkedin.com/jobs/view/data-scientist-at-johnson-johnson-2523010666?refId=m8m0xrQ7A9YJe4X7oa7ARg%3D%3D&trackingId=TSyetwH9au86225SCL6B0A%3D%3D&position=5&pageNum=0&trk=public_jobs_job-result-card_result-card_full-click',\n",
       " 'https://au.linkedin.com/jobs/view/2021-research-intern-%E2%80%93-data-science-machine-learning-at-adobe-2436755238?refId=m8m0xrQ7A9YJe4X7oa7ARg%3D%3D&trackingId=Uo3gmYtwZgSUtEJ%2BGCxuuQ%3D%3D&position=6&pageNum=0&trk=public_jobs_job-result-card_result-card_full-click',\n",
       " 'https://au.linkedin.com/jobs/view/data-science-engineer-at-boeing-2523051863?refId=m8m0xrQ7A9YJe4X7oa7ARg%3D%3D&trackingId=W9h9S7427YGVgzS9cpZySQ%3D%3D&position=7&pageNum=0&trk=public_jobs_job-result-card_result-card_full-click',\n",
       " 'https://au.linkedin.com/jobs/view/amazon-tech-u-graduate-program-2021-at-amazon-web-services-aws-2431568253?refId=m8m0xrQ7A9YJe4X7oa7ARg%3D%3D&trackingId=SYTCjBnrwmFYWPKH9v4Ong%3D%3D&position=8&pageNum=0&trk=public_jobs_job-result-card_result-card_full-click',\n",
       " 'https://au.linkedin.com/jobs/view/software-engineer-at-lucida-2517772196?refId=m8m0xrQ7A9YJe4X7oa7ARg%3D%3D&trackingId=7e1OuhsG7P7KBPsyte86xQ%3D%3D&position=9&pageNum=0&trk=public_jobs_job-result-card_result-card_full-click',\n",
       " 'https://au.linkedin.com/jobs/view/data-scientist-at-talent-insights-group-2515312630?refId=m8m0xrQ7A9YJe4X7oa7ARg%3D%3D&trackingId=%2FlJ90Yqgt%2FT9nCh4QjZwIA%3D%3D&position=10&pageNum=0&trk=public_jobs_job-result-card_result-card_full-click',\n",
       " 'https://au.linkedin.com/jobs/view/data-scientist-at-paxus-technology-%2B-digital-talent-2515385745?refId=m8m0xrQ7A9YJe4X7oa7ARg%3D%3D&trackingId=v2aDSm8JV9UVMz07V65HRQ%3D%3D&position=11&pageNum=0&trk=public_jobs_job-result-card_result-card_full-click',\n",
       " 'https://au.linkedin.com/jobs/view/artificial-intelligence-and-data-science-research-fellow-at-monash-university-2516566736?refId=m8m0xrQ7A9YJe4X7oa7ARg%3D%3D&trackingId=8k6kj%2FHfSPNIOOWPJIyZLA%3D%3D&position=12&pageNum=0&trk=public_jobs_job-result-card_result-card_full-click',\n",
       " 'https://au.linkedin.com/jobs/view/data-engineer-at-insight-timer-2523047641?refId=m8m0xrQ7A9YJe4X7oa7ARg%3D%3D&trackingId=zCBJ1vdzAu38FNQ1CjBXUA%3D%3D&position=13&pageNum=0&trk=public_jobs_job-result-card_result-card_full-click',\n",
       " 'https://au.linkedin.com/jobs/view/machine-learning-engineer-at-accenture-2519009663?refId=m8m0xrQ7A9YJe4X7oa7ARg%3D%3D&trackingId=WqTH8ydFuUIZlDMEejZkYQ%3D%3D&position=14&pageNum=0&trk=public_jobs_job-result-card_result-card_full-click',\n",
       " 'https://au.linkedin.com/jobs/view/data-analyst-at-centorrino-technologies-2532740382?refId=m8m0xrQ7A9YJe4X7oa7ARg%3D%3D&trackingId=Kx4kGf0lFA91%2FPNLOGZczg%3D%3D&position=15&pageNum=0&trk=public_jobs_job-result-card_result-card_full-click',\n",
       " 'https://au.linkedin.com/jobs/view/machine-learning-engineer-at-zendesk-2514259667?refId=m8m0xrQ7A9YJe4X7oa7ARg%3D%3D&trackingId=xz6KGPm8xHbNK46JrRwW%2Fw%3D%3D&position=16&pageNum=0&trk=public_jobs_job-result-card_result-card_full-click',\n",
       " 'https://au.linkedin.com/jobs/view/machine-learning-engineer-at-accenture-australia-2513139115?refId=m8m0xrQ7A9YJe4X7oa7ARg%3D%3D&trackingId=WuSrXv9Ww4TE1Bj0HmXH9w%3D%3D&position=17&pageNum=0&trk=public_jobs_job-result-card_result-card_full-click',\n",
       " 'https://au.linkedin.com/jobs/view/data-analyst-at-asg-group-2516540822?refId=m8m0xrQ7A9YJe4X7oa7ARg%3D%3D&trackingId=bPyH7Vmf93UM5e0RApsMKw%3D%3D&position=18&pageNum=0&trk=public_jobs_job-result-card_result-card_full-click',\n",
       " 'https://au.linkedin.com/jobs/view/data-analyst-at-deputy-2516547975?refId=m8m0xrQ7A9YJe4X7oa7ARg%3D%3D&trackingId=AVhiAtwiVOjF6m7u%2BEKzEw%3D%3D&position=19&pageNum=0&trk=public_jobs_job-result-card_result-card_full-click',\n",
       " 'https://au.linkedin.com/jobs/view/data-science-specialist-at-telstra-2520437798?refId=m8m0xrQ7A9YJe4X7oa7ARg%3D%3D&trackingId=ORk1s55NT5RJ0hAFt%2FHwzA%3D%3D&position=20&pageNum=0&trk=public_jobs_job-result-card_result-card_full-click',\n",
       " 'https://au.linkedin.com/jobs/view/technical-data-analyst-at-susquehanna-international-group-llp-sig-2509883430?refId=m8m0xrQ7A9YJe4X7oa7ARg%3D%3D&trackingId=DURvLKfzWVDffWNeU2DmBA%3D%3D&position=21&pageNum=0&trk=public_jobs_job-result-card_result-card_full-click',\n",
       " 'https://au.linkedin.com/jobs/view/data-scientist-customer-analytics-at-zip-co-2519099671?refId=m8m0xrQ7A9YJe4X7oa7ARg%3D%3D&trackingId=LdzLUQLBwYfsfm8n91MJ5Q%3D%3D&position=22&pageNum=0&trk=public_jobs_job-result-card_result-card_full-click',\n",
       " 'https://au.linkedin.com/jobs/view/data-scientist-quantumblack-at-quantumblack-2466643642?refId=m8m0xrQ7A9YJe4X7oa7ARg%3D%3D&trackingId=aQpz%2BSv3PZqqM03cSQKlHQ%3D%3D&position=23&pageNum=0&trk=public_jobs_job-result-card_result-card_full-click',\n",
       " 'https://au.linkedin.com/jobs/view/machine-learning-scientist-at-amazon-2431581695?refId=5h9Hxn5B6XqSouEewjRadA%3D%3D&trackingId=5LEDN3fZztyVUXTjYN6MRA%3D%3D&position=1&pageNum=0&trk=public_jobs_jserp-result_search-card',\n",
       " 'https://au.linkedin.com/jobs/view/data-scientist-artificial-intelligence-machine-learning-at-systemize-consulting-2511444090?refId=5h9Hxn5B6XqSouEewjRadA%3D%3D&trackingId=NxwDsZSHbkchUZPQ8XNlGg%3D%3D&position=2&pageNum=0&trk=public_jobs_jserp-result_search-card',\n",
       " 'https://au.linkedin.com/jobs/view/data-scientist-at-johnson-johnson-2523010666?refId=5h9Hxn5B6XqSouEewjRadA%3D%3D&trackingId=myZjufXzwiTvZh8DD%2BKREA%3D%3D&position=3&pageNum=0&trk=public_jobs_jserp-result_search-card',\n",
       " 'https://au.linkedin.com/jobs/view/data-scientist-at-hays-2520456145?refId=5h9Hxn5B6XqSouEewjRadA%3D%3D&trackingId=sDgLvqm44oh2UZPIyp6bzQ%3D%3D&position=4&pageNum=0&trk=public_jobs_jserp-result_search-card',\n",
       " 'https://au.linkedin.com/jobs/view/entry-level-data-scientist-risk-analyst-opportunities-at-commonwealth-bank-2537608771?refId=5h9Hxn5B6XqSouEewjRadA%3D%3D&trackingId=obRjEBCpiNmbu6yqV0FYJg%3D%3D&position=5&pageNum=0&trk=public_jobs_jserp-result_search-card',\n",
       " 'https://au.linkedin.com/jobs/view/software-engineer-simulation-and-modelling-at-sypaq-systems-2522286644?refId=5h9Hxn5B6XqSouEewjRadA%3D%3D&trackingId=ZYP%2BseWxQLFxVk4jQvMkKw%3D%3D&position=6&pageNum=0&trk=public_jobs_jserp-result_search-card',\n",
       " 'https://au.linkedin.com/jobs/view/machine-learning-engineer-at-accenture-australia-2513135915?refId=5h9Hxn5B6XqSouEewjRadA%3D%3D&trackingId=BkZWhVY8h%2FpFbQI7cJHGrQ%3D%3D&position=7&pageNum=0&trk=public_jobs_jserp-result_search-card',\n",
       " 'https://au.linkedin.com/jobs/view/data-scientist-at-kpmg-australia-2434288087?refId=5h9Hxn5B6XqSouEewjRadA%3D%3D&trackingId=lP17UD8%2Bi0ilez94bcOWvA%3D%3D&position=8&pageNum=0&trk=public_jobs_jserp-result_search-card',\n",
       " 'https://au.linkedin.com/jobs/view/principal-data-scientist-at-pra-2515308918?refId=5h9Hxn5B6XqSouEewjRadA%3D%3D&trackingId=KyMDjESLksXkorJxvY%2Frwg%3D%3D&position=9&pageNum=0&trk=public_jobs_jserp-result_search-card',\n",
       " 'https://au.linkedin.com/jobs/view/data-scientist-at-talent-insights-group-2515312630?refId=5h9Hxn5B6XqSouEewjRadA%3D%3D&trackingId=HGEIzXbkUxuvP4ms26dVDg%3D%3D&position=10&pageNum=0&trk=public_jobs_jserp-result_search-card',\n",
       " 'https://au.linkedin.com/jobs/view/machine-learning-software-engineer-at-jobs-on-jobactive-2529140063?refId=5h9Hxn5B6XqSouEewjRadA%3D%3D&trackingId=BAJa3DagoEfgMaGBEebJ8Q%3D%3D&position=11&pageNum=0&trk=public_jobs_jserp-result_search-card',\n",
       " 'https://au.linkedin.com/jobs/view/data-scientist-at-intelligen-2536916685?refId=5h9Hxn5B6XqSouEewjRadA%3D%3D&trackingId=2EjJRfdoUeIuzij%2BipKtEw%3D%3D&position=12&pageNum=0&trk=public_jobs_jserp-result_search-card',\n",
       " 'https://au.linkedin.com/jobs/view/machine-learning-engineer-at-zendesk-2514259667?refId=5h9Hxn5B6XqSouEewjRadA%3D%3D&trackingId=o5mDvVqeXQrlF1IrbvLEew%3D%3D&position=13&pageNum=0&trk=public_jobs_jserp-result_search-card',\n",
       " 'https://au.linkedin.com/jobs/view/machine-learning-engineer-at-accenture-2519009663?refId=5h9Hxn5B6XqSouEewjRadA%3D%3D&trackingId=H0vXsgnhEwVTYzpVOyDdaA%3D%3D&position=14&pageNum=0&trk=public_jobs_jserp-result_search-card',\n",
       " 'https://au.linkedin.com/jobs/view/datascientist-at-reesby-2532815683?refId=5h9Hxn5B6XqSouEewjRadA%3D%3D&trackingId=3hvJ2Ko52LNDVgEdbLjIdg%3D%3D&position=15&pageNum=0&trk=public_jobs_jserp-result_search-card',\n",
       " 'https://au.linkedin.com/jobs/view/data-scientist-at-paxus-technology-%2B-digital-talent-2515385745?refId=5h9Hxn5B6XqSouEewjRadA%3D%3D&trackingId=d07pJMkfAWrReMtqNstVgA%3D%3D&position=16&pageNum=0&trk=public_jobs_jserp-result_search-card',\n",
       " 'https://au.linkedin.com/jobs/view/data-scientist-quantumblack-at-quantumblack-2466643642?refId=5h9Hxn5B6XqSouEewjRadA%3D%3D&trackingId=h%2Fr%2BDaG%2FkslgAbXRBW2wyw%3D%3D&position=17&pageNum=0&trk=public_jobs_jserp-result_search-card',\n",
       " 'https://au.linkedin.com/jobs/view/data-scientist-customer-analytics-at-zip-co-2519099671?refId=5h9Hxn5B6XqSouEewjRadA%3D%3D&trackingId=sYu7wUCT%2FzkUkTVI6TqyRg%3D%3D&position=18&pageNum=0&trk=public_jobs_jserp-result_search-card',\n",
       " 'https://au.linkedin.com/jobs/view/data-engineer-at-insight-timer-2523047641?refId=5h9Hxn5B6XqSouEewjRadA%3D%3D&trackingId=dTag3hg1pxIGo25%2B7fsJFg%3D%3D&position=19&pageNum=0&trk=public_jobs_jserp-result_search-card',\n",
       " 'https://au.linkedin.com/jobs/view/ml-data-engineer-at-intellify-2499112340?refId=5h9Hxn5B6XqSouEewjRadA%3D%3D&trackingId=kPXgTwIr3IIOjy50s4gApQ%3D%3D&position=20&pageNum=0&trk=public_jobs_jserp-result_search-card',\n",
       " 'https://au.linkedin.com/jobs/view/data-engineer-at-adept-insight-2522297892?refId=5h9Hxn5B6XqSouEewjRadA%3D%3D&trackingId=%2FQjnDsGms%2BckVR5B2NunKw%3D%3D&position=21&pageNum=0&trk=public_jobs_jserp-result_search-card',\n",
       " 'https://au.linkedin.com/jobs/view/robotics-software-engineer-slam-at-csiro-2523062836?refId=5h9Hxn5B6XqSouEewjRadA%3D%3D&trackingId=HquZ6qB1nG%2FHBdRIdPY0Vg%3D%3D&position=22&pageNum=0&trk=public_jobs_jserp-result_search-card',\n",
       " 'https://au.linkedin.com/jobs/view/data-engineer-at-hcl-technologies-2506197987?refId=5h9Hxn5B6XqSouEewjRadA%3D%3D&trackingId=ZvnHzD21hhkqHkO1F9%2BcLg%3D%3D&position=23&pageNum=0&trk=public_jobs_jserp-result_search-card',\n",
       " 'https://au.linkedin.com/jobs/view/data-scientist-actuarial-at-deloitte-australia-2517777054?refId=5h9Hxn5B6XqSouEewjRadA%3D%3D&trackingId=bEfLbDHrhUrvzzRGnc1%2FPg%3D%3D&position=24&pageNum=0&trk=public_jobs_jserp-result_search-card']"
      ]
     },
     "execution_count": null,
     "metadata": {},
     "output_type": "execute_result"
    }
   ],
   "source": [
    "list(jobs_df.url)"
   ]
  },
  {
   "cell_type": "code",
   "execution_count": null,
   "metadata": {},
   "outputs": [],
   "source": []
  }
 ],
 "metadata": {
  "kernelspec": {
   "display_name": "Python 3",
   "language": "python",
   "name": "python3"
  }
 },
 "nbformat": 4,
 "nbformat_minor": 4
}
