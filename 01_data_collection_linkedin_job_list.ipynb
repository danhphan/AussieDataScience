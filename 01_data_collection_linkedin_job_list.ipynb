{
 "cells": [
  {
   "cell_type": "code",
   "execution_count": null,
   "metadata": {},
   "outputs": [],
   "source": [
    "# default_exp data_collection_linkedin_job_list"
   ]
  },
  {
   "cell_type": "markdown",
   "metadata": {},
   "source": [
    "# data_collection_linkedin_job_list\n",
    "\n",
    "> API details."
   ]
  },
  {
   "cell_type": "code",
   "execution_count": null,
   "metadata": {},
   "outputs": [],
   "source": [
    "#hide\n",
    "# from nbdev.showdoc import *"
   ]
  },
  {
   "cell_type": "code",
   "execution_count": null,
   "metadata": {},
   "outputs": [],
   "source": [
    "import re, time, requests\n",
    "import pandas as pd\n",
    "from parsel import Selector\n",
    "from selenium import webdriver\n",
    "from selenium.webdriver import *\n",
    "from selenium.webdriver.chrome.options import Options\n",
    "# from selenium.webdriver.common.keys import Keys\n",
    "# from selenium.webdriver.common.by import By\n",
    "\n",
    "import config"
   ]
  },
  {
   "cell_type": "code",
   "execution_count": null,
   "metadata": {},
   "outputs": [],
   "source": [
    "def get_driver(url):\n",
    "    chrome_options = Options()\n",
    "    chrome_options.add_argument(\"--headless\")\n",
    "    driver = webdriver.Chrome(\n",
    "        executable_path=config.PATH_CHROME_DRIVER, \n",
    "        options=chrome_options)\n",
    "    driver.get(url)\n",
    "    return driver\n",
    "\n",
    "def get_ref_id(job_url):\n",
    "    try:\n",
    "        found = re.search('(?<=refId=).*(?=&trackingId)', job_url).group()\n",
    "    except AttributeError:\n",
    "        found = ''\n",
    "    return found\n",
    "\n",
    "def get_track_id(job_url):\n",
    "    try:\n",
    "        found = re.search('(?<=trackingId=)(.*)(?=&position)', job_url).group()\n",
    "    except AttributeError:\n",
    "        found = ''\n",
    "    return found\n",
    "\n",
    "def get_job_info(selector):\n",
    "    title = selector.css('h3::text').get().strip()\n",
    "    published = selector.xpath(\"//time/@datetime\").get()\n",
    "    job_url = selector.xpath(\"//a/@href\").get()    \n",
    "    idx = get_track_id(job_url)\n",
    "    return [idx, title, published, job_url]\n",
    "    \n",
    "def get_job_list(driver):\n",
    "    job_list = driver.find_elements_by_xpath(\"//ul[contains(@class,'jobs-search__results-list')]/li\")    \n",
    "    for job in job_list:\n",
    "        time.sleep(0.2)\n",
    "        selector = Selector(text=job.get_attribute(\"outerHTML\"))\n",
    "        yield get_job_info(selector)        "
   ]
  },
  {
   "cell_type": "code",
   "execution_count": null,
   "metadata": {},
   "outputs": [],
   "source": [
    "for url in config.URLS_LINKEDIN:\n",
    "    driver = get_driver(url)\n",
    "    job_list = list(get_job_list(driver))\n",
    "    jobs = pd.DataFrame(job_list, columns=['id','title','published', 'url'])\n",
    "    jobs.to_csv(config.FILE_JOBLIST_LK, mode='a', index=False)"
   ]
  },
  {
   "cell_type": "code",
   "execution_count": null,
   "metadata": {},
   "outputs": [
    {
     "data": {
      "text/plain": [
       "(116, 4)"
      ]
     },
     "execution_count": null,
     "metadata": {},
     "output_type": "execute_result"
    }
   ],
   "source": [
    "jobs_df = pd.read_csv(config.FILE_JOBLIST_LK)\n",
    "jobs_df.shape"
   ]
  },
  {
   "cell_type": "code",
   "execution_count": null,
   "metadata": {},
   "outputs": [],
   "source": []
  }
 ],
 "metadata": {
  "kernelspec": {
   "display_name": "Python 3",
   "language": "python",
   "name": "python3"
  }
 },
 "nbformat": 4,
 "nbformat_minor": 4
}
